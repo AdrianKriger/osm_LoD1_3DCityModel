{
 "cells": [
  {
   "cell_type": "markdown",
   "metadata": {},
   "source": [
    "# CityJSON Walkthrough\n",
    "\n",
    "**The purpose of this notebook is to prevent an excessive burden on the [OpenStreetMap](https://www.openstreetmap.org/about) server when [osm_LoD1_3DCityModel](https://github.com/AdrianKriger/osm_LoD1_3DCityModel/tree/main/village_campus) fails; and an investigation into *where* the challenge lies is needed.**\n",
    "\n",
    "It saves the `overpass`.geojson to prevent calling OSM after every failure. Peruse `pv.Plotter` (cell xxx) at you leisure. "
   ]
  },
  {
   "cell_type": "code",
   "execution_count": 1,
   "metadata": {},
   "outputs": [],
   "source": [
    "import os\n",
    "from itertools import chain\n",
    "\n",
    "import requests\n",
    "import overpass\n",
    "import osm2geojson\n",
    "\n",
    "import numpy as np\n",
    "import pandas as pd\n",
    "import geopandas as gpd\n",
    "\n",
    "import shapely\n",
    "import shapely.geometry as sg\n",
    "from shapely.geometry import Point, LineString, Polygon, shape, mapping\n",
    "from shapely.ops import snap\n",
    "from shapely.ops import transform\n",
    "\n",
    "import fiona\n",
    "import copy\n",
    "import json\n",
    "import geojson\n",
    "\n",
    "import pyproj\n",
    "\n",
    "from openlocationcode import openlocationcode as olc\n",
    "\n",
    "from cjio import cityjson\n",
    "\n",
    "from osgeo import gdal, ogr\n",
    "\n",
    "import pyvista as pv\n",
    "import triangle as tr\n",
    "\n",
    "import matplotlib.pyplot as plt"
   ]
  },
  {
   "cell_type": "code",
   "execution_count": 217,
   "metadata": {},
   "outputs": [],
   "source": [
    "import time\n",
    "from datetime import timedelta"
   ]
  },
  {
   "cell_type": "markdown",
   "metadata": {},
   "source": [
    "**A `paramater.json` defines the path and files**."
   ]
  },
  {
   "cell_type": "code",
   "execution_count": 218,
   "metadata": {},
   "outputs": [],
   "source": [
    "jparams = json.load(open('osm3Dtest_param.json'))"
   ]
  },
  {
   "cell_type": "markdown",
   "metadata": {},
   "source": [
    "**First get everything via `overpass`**"
   ]
  },
  {
   "cell_type": "code",
   "execution_count": 7,
   "metadata": {},
   "outputs": [],
   "source": [
    "#buildings\n",
    "query = \"\"\"\n",
    "    [out:json][timeout:25];\n",
    "    (area[name='{0}'] ->.b;\n",
    "    // -- target area ~ can be way or relation\n",
    "    {1}(area.b)[name='{2}'];\n",
    "    map_to_area -> .a;\n",
    "        // I want all buildings ~ with levels tagged\n",
    "        way['building'](area.a);\n",
    "        // and relation type=multipolygon ~ to removed courtyards from buildings\n",
    "        relation['building'][\"type\"=\"multipolygon\"](area.a);\n",
    "    );\n",
    "    out body;\n",
    "    >;\n",
    "    out skel qt;\n",
    "    \"\"\".format(jparams['LargeArea'], jparams['osm_type'], jparams['FocusArea'])\n",
    "    \n",
    "url = \"http://overpass-api.de/api/interpreter\"\n",
    "r = requests.get(url, params={'data': query})\n",
    "    #rr = r.read()\n",
    "gj = osm2geojson.json2geojson(r.json())\n",
    "#shapes_with_props = osm2geojson.json2shapes(r.json())\n",
    "#-- store the data as GeoJSON\n",
    "with open(jparams['ori-gjson_out'], 'w') as outfile:                   \n",
    "    json.dump(gj, outfile)"
   ]
  },
  {
   "cell_type": "code",
   "execution_count": 8,
   "metadata": {},
   "outputs": [],
   "source": [
    "#project blds \n",
    "ds = gdal.VectorTranslate(jparams['gjson-proj_out'], jparams['ori-gjson_out'], \n",
    "                          format = 'GeoJSON', reproject = True, # makeValid=True,\n",
    "                          srcSRS='EPSG:4326', dstSRS=jparams['crs'])\n",
    "# de-reference and close dataset\n",
    "del ds"
   ]
  },
  {
   "cell_type": "code",
   "execution_count": null,
   "metadata": {},
   "outputs": [],
   "source": []
  },
  {
   "cell_type": "code",
   "execution_count": 9,
   "metadata": {},
   "outputs": [],
   "source": [
    "#aoi\n",
    "query = \"\"\"\n",
    "    [out:json][timeout:30];\n",
    "    // main area\n",
    "    area[name='{0}']->.a;\n",
    "    //gather results\n",
    "    (\n",
    "    // focus\n",
    "    {1}['name'='{2}'](area.a);\n",
    "    );\n",
    "    //print results\n",
    "    out body;\n",
    "    >;\n",
    "    out skel qt;\n",
    "    \"\"\".format(jparams['LargeArea'], jparams['osm_type'], jparams['FocusArea'])\n",
    "    \n",
    "url = \"http://overpass-api.de/api/interpreter\"\n",
    "r = requests.get(url, params={'data': query})\n",
    "area = osm2geojson.json2geojson(r.json())\n",
    "#area = osm2geojson.json2shapes(r.json())\n",
    "#-- store the data as GeoJSON\n",
    "with open(jparams['aoi'], 'w') as outfile:                  \n",
    "    json.dump(area, outfile)"
   ]
  },
  {
   "cell_type": "code",
   "execution_count": 219,
   "metadata": {},
   "outputs": [],
   "source": [
    "#project aoi \n",
    "ds = gdal.VectorTranslate(jparams['aoi_prj'], jparams['aoi'], \n",
    "                          format = 'GeoJSON', reproject = True, makeValid=True,\n",
    "                          srcSRS='EPSG:4326', dstSRS=jparams['crs'])\n",
    "# de-reference and close dataset\n",
    "del ds"
   ]
  },
  {
   "cell_type": "code",
   "execution_count": null,
   "metadata": {},
   "outputs": [],
   "source": []
  },
  {
   "cell_type": "code",
   "execution_count": 11,
   "metadata": {},
   "outputs": [],
   "source": [
    "#streets\n",
    "query = \"\"\"\n",
    "    [out:json][timeout:25];\n",
    "    (area[name='{0}'] ->.b;\n",
    "    // -- target area ~ can be way or relation\n",
    "    {1}(area.b)[name='{2}'];\n",
    "    map_to_area -> .a;\n",
    "        // I want all roads\n",
    "        way[\"highway\"][highway!~\"^(footway|path)$\"](area.a);\n",
    "    );\n",
    "    out body;\n",
    "    >;\n",
    "    out skel qt;\n",
    "    \"\"\".format(jparams['LargeArea'], jparams['osm_type'], jparams['FocusArea'])\n",
    "    \n",
    "url = \"http://overpass-api.de/api/interpreter\"\n",
    "rd = requests.get(url, params={'data': query})\n",
    "    #rr = r.read()\n",
    "gj_rd = osm2geojson.json2geojson(rd.json())\n",
    "#rds = osm2geojson.json2shapes(rd.json())\n",
    "#-- store the data as GeoJSON\n",
    "with open(jparams['gjson-rd'], 'w') as outfile:                \n",
    "    json.dump(gj_rd, outfile)"
   ]
  },
  {
   "cell_type": "code",
   "execution_count": 12,
   "metadata": {},
   "outputs": [],
   "source": [
    "#project streets \n",
    "ds = gdal.VectorTranslate(jparams['gjson_proj-rd'], jparams['gjson-rd'], \n",
    "                          format = 'GeoJSON', reproject = True, makeValid=True,\n",
    "                          srcSRS='EPSG:4326', dstSRS=jparams['crs'])\n",
    "# de-reference and close dataset\n",
    "del ds"
   ]
  },
  {
   "cell_type": "code",
   "execution_count": null,
   "metadata": {},
   "outputs": [],
   "source": []
  },
  {
   "cell_type": "code",
   "execution_count": 13,
   "metadata": {},
   "outputs": [],
   "source": [
    "#parking entrance ~~ just in case\n",
    "query = \"\"\"\n",
    "    [out:json][timeout:25];\n",
    "    (area[name='{0}'] ->.b;\n",
    "    // -- target area ~ can be way or relation\n",
    "    {1}(area.b)[name='{2}'];\n",
    "    map_to_area -> .a;\n",
    "        // I want all roads\n",
    "        node[\"amenity\"=\"parking_entrance\"](area.a);\n",
    "    );\n",
    "    out body;\n",
    "    >;\n",
    "    out skel qt;\n",
    "    \"\"\".format(jparams['LargeArea'], jparams['osm_type'], jparams['FocusArea'])\n",
    "    \n",
    "url = \"http://overpass-api.de/api/interpreter\"\n",
    "pk = requests.get(url, params={'data': query})\n",
    "    #rr = r.read()\n",
    "gj_pk = osm2geojson.json2geojson(pk.json())\n",
    "#gj_pk = osm2geojson.json2shapes(pk.json())\n",
    "#-- store the data as GeoJSON\n",
    "with open(jparams['gjson-pk'], 'w') as outfile:                   \n",
    "    json.dump(gj_pk, outfile) "
   ]
  },
  {
   "cell_type": "code",
   "execution_count": 14,
   "metadata": {},
   "outputs": [],
   "source": [
    "#project parking \n",
    "ds = gdal.VectorTranslate(jparams['gjson_proj-pk'], jparams['gjson-pk'], \n",
    "                          format = 'GeoJSON', reproject = True, makeValid=True,\n",
    "                          srcSRS='EPSG:4326', dstSRS=jparams['crs'])\n",
    "# de-reference and close dataset\n",
    "del ds"
   ]
  },
  {
   "cell_type": "markdown",
   "metadata": {},
   "source": [
    "**Now we process.**  \n",
    "\n",
    "**If you change the *geometry, shape or alignment* of a building / street in an [OSM editor](https://wiki.openstreetmap.org/wiki/Editors); call / retrieve only what you need; and continue.**\n",
    "\n",
    "**<span style=\"color:orange\">While *local* updates should reflect immediately;</span> <span style=\"color:black\">GIVE IT A DAY.</span> <span style=\"color:orange\">We are one part of a global community who share [OSM](https://www.openstreetmap.org/about). Consideration will go a long way towards ensuring the longevity of this resource.</span> <span style=\"color:black\"> Please be patient.</span>**"
   ]
  },
  {
   "cell_type": "code",
   "execution_count": 220,
   "metadata": {},
   "outputs": [
    {
     "data": {
      "text/html": [
       "<div>\n",
       "<style scoped>\n",
       "    .dataframe tbody tr th:only-of-type {\n",
       "        vertical-align: middle;\n",
       "    }\n",
       "\n",
       "    .dataframe tbody tr th {\n",
       "        vertical-align: top;\n",
       "    }\n",
       "\n",
       "    .dataframe thead th {\n",
       "        text-align: right;\n",
       "    }\n",
       "</style>\n",
       "<table border=\"1\" class=\"dataframe\">\n",
       "  <thead>\n",
       "    <tr style=\"text-align: right;\">\n",
       "      <th></th>\n",
       "      <th>type</th>\n",
       "      <th>id</th>\n",
       "      <th>tags</th>\n",
       "      <th>geometry</th>\n",
       "    </tr>\n",
       "  </thead>\n",
       "  <tbody>\n",
       "    <tr>\n",
       "      <th>0</th>\n",
       "      <td>way</td>\n",
       "      <td>61135217</td>\n",
       "      <td>{'amenity': 'university', 'is_in': 'Bellville,...</td>\n",
       "      <td>POLYGON ((281485.937 6243170.380, 281624.930 6...</td>\n",
       "    </tr>\n",
       "  </tbody>\n",
       "</table>\n",
       "</div>"
      ],
      "text/plain": [
       "  type  ...                                           geometry\n",
       "0  way  ...  POLYGON ((281485.937 6243170.380, 281624.930 6...\n",
       "\n",
       "[1 rows x 4 columns]"
      ]
     },
     "execution_count": 220,
     "metadata": {},
     "output_type": "execute_result"
    }
   ],
   "source": [
    "#process aoi \n",
    "aoi = gpd.read_file(jparams['aoi_prj'])                   \n",
    "aoi.set_crs(epsg=int(jparams['crs'][-5:]), inplace=True, allow_override=True)            \n",
    "aoi.head(2)"
   ]
  },
  {
   "cell_type": "code",
   "execution_count": 221,
   "metadata": {},
   "outputs": [],
   "source": [
    "if jparams['osm_type'] == 'relation' and len(aoi) > 1:\n",
    "    for i, row in aoi.iterrows():\n",
    "        if row.tags != None and 'place' in row.tags:\n",
    "            focus = row\n",
    "            \n",
    "    trim = pd.DataFrame(focus)\n",
    "    trim = trim.T\n",
    "    aoi = gpd.GeoDataFrame(trim, geometry = trim['geometry'])\n",
    "    aoi = aoi.set_crs(jparams['crs'])"
   ]
  },
  {
   "cell_type": "code",
   "execution_count": 222,
   "metadata": {},
   "outputs": [],
   "source": [
    "aoibuffer = aoi.copy()\n",
    "\n",
    "def buffer01(row):\n",
    "    return row.geometry.buffer(150, \n",
    "                               cap_style=3, join_style=2)\n",
    "\n",
    "aoibuffer['geometry'] = aoibuffer.apply(buffer01, axis=1)\n",
    "    \n",
    "extent = [aoibuffer.total_bounds[0] - 250, aoibuffer.total_bounds[1] - 250, \n",
    "          aoibuffer.total_bounds[2] + 250, aoibuffer.total_bounds[3] + 250]"
   ]
  },
  {
   "cell_type": "markdown",
   "metadata": {},
   "source": [
    "**Now the DEM**"
   ]
  },
  {
   "cell_type": "code",
   "execution_count": 223,
   "metadata": {},
   "outputs": [],
   "source": [
    "OutTile = gdal.Warp(jparams['projClip_raster'], \n",
    "                    jparams['in_raster'], \n",
    "                    dstSRS=jparams['crs'],\n",
    "                    srcNodata = jparams['nodata'],\n",
    "                    #dstNodata = 0,\n",
    "                         #-- outputBounds=[minX, minY, maxX, maxY]\n",
    "                    outputBounds = [extent[0], extent[1], extent[2], extent[3]])\n",
    "OutTile = None "
   ]
  },
  {
   "cell_type": "code",
   "execution_count": 224,
   "metadata": {},
   "outputs": [],
   "source": [
    "xyz = gdal.Translate(jparams['xyz'], \n",
    "                     jparams['projClip_raster'],\n",
    "                     format = 'XYZ')#, \n",
    "                     #noData = float(0))\n",
    "xyz = None"
   ]
  },
  {
   "cell_type": "markdown",
   "metadata": {},
   "source": [
    "**Buildings**"
   ]
  },
  {
   "cell_type": "code",
   "execution_count": 225,
   "metadata": {},
   "outputs": [
    {
     "data": {
      "text/html": [
       "<div>\n",
       "<style scoped>\n",
       "    .dataframe tbody tr th:only-of-type {\n",
       "        vertical-align: middle;\n",
       "    }\n",
       "\n",
       "    .dataframe tbody tr th {\n",
       "        vertical-align: top;\n",
       "    }\n",
       "\n",
       "    .dataframe thead th {\n",
       "        text-align: right;\n",
       "    }\n",
       "</style>\n",
       "<table border=\"1\" class=\"dataframe\">\n",
       "  <thead>\n",
       "    <tr style=\"text-align: right;\">\n",
       "      <th></th>\n",
       "      <th>type</th>\n",
       "      <th>id</th>\n",
       "      <th>tags</th>\n",
       "      <th>geometry</th>\n",
       "      <th>bld</th>\n",
       "    </tr>\n",
       "  </thead>\n",
       "  <tbody>\n",
       "    <tr>\n",
       "      <th>0</th>\n",
       "      <td>way</td>\n",
       "      <td>61135217</td>\n",
       "      <td>{'amenity': 'university', 'is_in': 'Bellville,...</td>\n",
       "      <td>POLYGON ((281485.937 6243170.380, 281624.930 6...</td>\n",
       "      <td>None</td>\n",
       "    </tr>\n",
       "  </tbody>\n",
       "</table>\n",
       "</div>"
      ],
      "text/plain": [
       "  type        id  ...                                           geometry   bld\n",
       "0  way  61135217  ...  POLYGON ((281485.937 6243170.380, 281624.930 6...  None\n",
       "\n",
       "[1 rows x 5 columns]"
      ]
     },
     "execution_count": 225,
     "metadata": {},
     "output_type": "execute_result"
    }
   ],
   "source": [
    "ts = gpd.read_file(jparams['gjson-proj_out'])\n",
    "#ts.drop(ts.index[ts['type'] == 'node'], inplace = True)\n",
    "#ts['id'] = ts['properties'].apply(lambda x: x.get('id'))\n",
    "ts['bld'] = ts['tags'].apply(lambda x: x.get('building'))\n",
    "ts.drop(ts.index[ts['type'] == 'node'], inplace = True)\n",
    "SKwalk = ts[ts['bld'] == 'bridge'].copy()\n",
    "roof = ts[ts['bld'] == 'roof'].copy()\n",
    "ts.drop(ts.index[ts['bld'] == 'bridge'], inplace = True)\n",
    "ts.drop(ts.index[ts['bld'] == 'roof'], inplace = True)\n",
    "ts.head(1)"
   ]
  },
  {
   "cell_type": "code",
   "execution_count": 226,
   "metadata": {},
   "outputs": [],
   "source": [
    "#ts.bld.unique"
   ]
  },
  {
   "cell_type": "code",
   "execution_count": 227,
   "metadata": {},
   "outputs": [],
   "source": [
    "src_filename = jparams['projClip_raster']\n",
    "\n",
    "src_ds = gdal.Open(src_filename) \n",
    "gt_forward = src_ds.GetGeoTransform()\n",
    "#gt_reverse = gdal.InvGeoTransform(gt_forward)\n",
    "rb = src_ds.GetRasterBand(1)\n",
    "\n",
    "def rasterQuery(geom, gt_forward, rb):\n",
    "\n",
    "    mx = geom.representative_point().x\n",
    "    my = geom.representative_point().y\n",
    "    \n",
    "    px = int((mx - gt_forward[0]) / gt_forward[1])\n",
    "    py = int((my - gt_forward[3]) / gt_forward[5])\n",
    "\n",
    "    intval = rb.ReadAsArray(px, py, 1, 1)\n",
    " \n",
    "    return intval[0][0]"
   ]
  },
  {
   "cell_type": "code",
   "execution_count": 228,
   "metadata": {},
   "outputs": [],
   "source": [
    "ts['mean'] = ts.apply(lambda row: rasterQuery(row.geometry, gt_forward, rb), axis = 1)"
   ]
  },
  {
   "cell_type": "code",
   "execution_count": 229,
   "metadata": {},
   "outputs": [
    {
     "data": {
      "text/html": [
       "<div>\n",
       "<style scoped>\n",
       "    .dataframe tbody tr th:only-of-type {\n",
       "        vertical-align: middle;\n",
       "    }\n",
       "\n",
       "    .dataframe tbody tr th {\n",
       "        vertical-align: top;\n",
       "    }\n",
       "\n",
       "    .dataframe thead th {\n",
       "        text-align: right;\n",
       "    }\n",
       "</style>\n",
       "<table border=\"1\" class=\"dataframe\">\n",
       "  <thead>\n",
       "    <tr style=\"text-align: right;\">\n",
       "      <th></th>\n",
       "      <th>type</th>\n",
       "      <th>id</th>\n",
       "      <th>tags</th>\n",
       "      <th>geometry</th>\n",
       "      <th>bld</th>\n",
       "      <th>mean</th>\n",
       "    </tr>\n",
       "  </thead>\n",
       "  <tbody>\n",
       "    <tr>\n",
       "      <th>0</th>\n",
       "      <td>way</td>\n",
       "      <td>61135217</td>\n",
       "      <td>{'amenity': 'university', 'is_in': 'Bellville,...</td>\n",
       "      <td>POLYGON ((281485.937 6243170.380, 281624.930 6...</td>\n",
       "      <td>None</td>\n",
       "      <td>62.980000</td>\n",
       "    </tr>\n",
       "    <tr>\n",
       "      <th>1</th>\n",
       "      <td>way</td>\n",
       "      <td>897473388</td>\n",
       "      <td>{'addr:city': 'Cape Town', 'addr:housename': '...</td>\n",
       "      <td>POLYGON ((282031.194 6242903.636, 282029.750 6...</td>\n",
       "      <td>university</td>\n",
       "      <td>63.150002</td>\n",
       "    </tr>\n",
       "  </tbody>\n",
       "</table>\n",
       "</div>"
      ],
      "text/plain": [
       "  type         id  ...         bld       mean\n",
       "0  way   61135217  ...        None  62.980000\n",
       "1  way  897473388  ...  university  63.150002\n",
       "\n",
       "[2 rows x 6 columns]"
      ]
     },
     "execution_count": 229,
     "metadata": {},
     "output_type": "execute_result"
    }
   ],
   "source": [
    "ts.head(2)#geometry.type.unique()"
   ]
  },
  {
   "cell_type": "code",
   "execution_count": 230,
   "metadata": {},
   "outputs": [],
   "source": [
    "for i, row in ts.iterrows():\n",
    "    if row.geometry.type == 'LineString' and len(row.geometry.coords) < 3:\n",
    "        #print(row)\n",
    "        ts = ts.drop(ts.index[i])"
   ]
  },
  {
   "cell_type": "code",
   "execution_count": 231,
   "metadata": {},
   "outputs": [],
   "source": [
    "storeyheight = 2.8\n",
    "#-- iterate through the list of buildings and create GeoJSON features rich in attributes\n",
    "footprints = {\n",
    "    \"type\": \"FeatureCollection\",\n",
    "    \"features\": []\n",
    "}\n",
    "for i, row in ts.iterrows():\n",
    "    f = {\n",
    "    \"type\" : \"Feature\"\n",
    "    }\n",
    "    # at a minimum we only want building:levels tagged\n",
    "    if row['type'] != 'node' and row['tags'] != None and 'building:levels' in row['tags']:\n",
    "        \n",
    "        f[\"properties\"] = {}\n",
    "            \n",
    "        #-- store all OSM attributes and prefix them with osm_ \n",
    "        f[\"properties\"][\"osm_id\"] = row.id\n",
    "        for p in row.tags:\n",
    "            adr = []\n",
    "            #-- transform the OSM address to string prefix with osm_\n",
    "            if 'addr:flats'in row.tags:\n",
    "                adr.append(row.tags['addr:flats'])\n",
    "            if 'addr:housenumber'in row.tags:\n",
    "                adr.append(row.tags['addr:housenumber'])\n",
    "            if 'addr:housename'in row.tags:\n",
    "                adr.append(row.tags['addr:housename'])\n",
    "            if 'addr:street' in row.tags:\n",
    "                adr.append(row.tags['addr:street'])\n",
    "            if 'addr:suburb' in row.tags:\n",
    "                adr.append(row.tags['addr:suburb'])\n",
    "            if 'addr:postcode' in row.tags:\n",
    "                adr.append(row.tags['addr:postcode'])\n",
    "            if 'addr:city' in row.tags:\n",
    "                adr.append(row.tags['addr:city'])\n",
    "            if 'addr:province' in row.tags:\n",
    "                adr.append(row.tags['addr:province'])\n",
    "            #-- store other OSM attributes and prefix them with osm_\n",
    "            f[\"properties\"][\"osm_%s\" % p] = row.tags[p]\n",
    "                \n",
    "        f[\"properties\"][\"osm_address\"] = \" \".join(adr)\n",
    "            \n",
    "        osm_shape = shape(row[\"geometry\"])\n",
    "        #-- a few buildings are not polygons, rather linestrings. This converts them to polygons\n",
    "        #-- rare, but if not done it breaks the code later\n",
    "        if osm_shape.type == 'LineString':\n",
    "            osm_shape = Polygon(osm_shape)\n",
    "        #-- and multipolygons must be accounted for\n",
    "        elif osm_shape.type == 'MultiPolygon':\n",
    "            #osm_shape = Polygon(osm_shape[0])\n",
    "            for poly in osm_shape:\n",
    "                osm_shape = Polygon(poly)#[0])\n",
    "                #-- convert the shapely object to geojson\n",
    "            \n",
    "        wgs84 = pyproj.CRS('EPSG:4326')\n",
    "        utm = pyproj.CRS(jparams['crs'])                                   \n",
    "        p = osm_shape.representative_point()\n",
    "        project = pyproj.Transformer.from_crs(utm, wgs84, always_xy=True).transform\n",
    "        wgs_point = transform(project, p)\n",
    "        f[\"properties\"][\"plus_code\"] = olc.encode(wgs_point.y, wgs_point.x, 11)\n",
    "                \n",
    "        f[\"geometry\"] = mapping(osm_shape)\n",
    "            \n",
    "        f[\"properties\"]['ground_height'] = round(row[\"mean\"], 2)\n",
    "        f[\"properties\"]['building_height'] = round(float(row.tags['building:levels']) * storeyheight + 1.3, 2) \n",
    "        f[\"properties\"]['roof_height'] = round(f[\"properties\"]['building_height'] + row[\"mean\"], 2)\n",
    "        footprints['features'].append(f)\n",
    "            \n",
    "for value in footprints['features']:\n",
    "    if 'osm_addr:flats' in value[\"properties\"]:\n",
    "        del value[\"properties\"][\"osm_addr:flats\"]\n",
    "    if 'osm_addr:housenumber' in value[\"properties\"]:\n",
    "        del value[\"properties\"][\"osm_addr:housenumber\"]\n",
    "    if 'osm_addr:housename' in value[\"properties\"]:\n",
    "        del value[\"properties\"][\"osm_addr:housename\"]\n",
    "    if 'osm_addr:street' in value[\"properties\"]:\n",
    "        del value[\"properties\"][\"osm_addr:street\"]\n",
    "    if 'osm_addr:suburb' in value[\"properties\"]:\n",
    "        del value[\"properties\"][\"osm_addr:suburb\"]\n",
    "    if 'osm_addr:postcode' in value[\"properties\"]:\n",
    "        del value[\"properties\"][\"osm_addr:postcode\"]\n",
    "    if 'osm_addr:city' in value[\"properties\"]:\n",
    "        del value[\"properties\"][\"osm_addr:city\"]\n",
    "    if 'osm_addr:province' in value[\"properties\"]:\n",
    "        del value[\"properties\"][\"osm_addr:province\"]"
   ]
  },
  {
   "cell_type": "code",
   "execution_count": 232,
   "metadata": {},
   "outputs": [],
   "source": [
    "#-- store the data as GeoJSON\n",
    "with open(jparams['osm_bldings'], 'w') as outfile:        \n",
    "    json.dump(footprints, outfile)"
   ]
  },
  {
   "cell_type": "code",
   "execution_count": 233,
   "metadata": {},
   "outputs": [
    {
     "name": "stdout",
     "output_type": "stream",
     "text": [
      "69\n",
      "runtime: 0:00:01.116865\n"
     ]
    }
   ],
   "source": [
    "start = time.time()\n",
    "\n",
    "dis = gpd.read_file(jparams['osm_bldings'])                       \n",
    "dis.set_crs(epsg=int(jparams['crs'][-5:]), inplace=True, allow_override=True)\n",
    "\n",
    "##-- while this takes a bit of time for larger datasets I include it because of the scale and precision\n",
    "##-- we are working at\n",
    "# remove duplicate vertices within tolerance 0.2 \n",
    "for index, row in dis.iterrows():\n",
    "    tmp_gdf = dis.copy()\n",
    "    tmp_gdf['distance'] = tmp_gdf.distance(row['geometry'])\n",
    "    closest_geom = list(tmp_gdf.sort_values('distance')['geometry'])[1]\n",
    "        # I took 1 because index 0 would be the row itself\n",
    "    snapped_geom = snap(row['geometry'], closest_geom, 0.2)\n",
    "    dis.loc[index, 'geometry'] = snapped_geom\n",
    "\n",
    "# create a point representing the hole within each building  \n",
    "dis['x'] = dis.representative_point().x\n",
    "dis['y'] = dis.representative_point().y\n",
    "hs = dis[['x', 'y', 'ground_height']].copy()\n",
    "print(len(dis))\n",
    "\n",
    "end = time.time()\n",
    "print('runtime:', str(timedelta(seconds=(end - start))))"
   ]
  },
  {
   "cell_type": "markdown",
   "metadata": {},
   "source": [
    "**Streets**"
   ]
  },
  {
   "cell_type": "code",
   "execution_count": 234,
   "metadata": {},
   "outputs": [],
   "source": [
    "rd = gpd.read_file(jparams['gjson_proj-rd'])\n",
    "rd.set_crs(epsg=int(jparams['crs'][-5:]), inplace=True, allow_override=True)\n",
    "rd.drop(rd.index[rd['type'] == 'node'], inplace = True)"
   ]
  },
  {
   "cell_type": "code",
   "execution_count": 235,
   "metadata": {},
   "outputs": [
    {
     "name": "stdout",
     "output_type": "stream",
     "text": [
      "120\n"
     ]
    }
   ],
   "source": [
    "def calc_width(row):\n",
    "    if np.isnan(row['width']):\n",
    "    #if row['width'] == np.nan:\n",
    "        \"\"\"if nan, calculate the width based on lanes\"\"\"\n",
    "        return row['lanes'] * 2.2\n",
    "    else:\n",
    "        return row['width']\n",
    "\n",
    "#rd.set_crs(epsg=int(jparams['crs'][-5:]), inplace=True, allow_override=True)\n",
    "rd['lanes'] = rd['tags'].apply(lambda x: x.get('lanes'))\n",
    "rd['width'] = rd['tags'].apply(lambda x: x.get('width'))\n",
    "print(len(rd))"
   ]
  },
  {
   "cell_type": "code",
   "execution_count": 236,
   "metadata": {},
   "outputs": [
    {
     "name": "stdout",
     "output_type": "stream",
     "text": [
      "120\n",
      "82\n"
     ]
    }
   ],
   "source": [
    "rd.dropna(subset=['tags'], inplace=True)\n",
    "rd['bridge'] = rd['tags'].apply(lambda x: x.get('bridge'))\n",
    "rd['bridge_structure'] = rd['tags'].apply(lambda x: x.get('bridge:structure'))\n",
    "rd['tunnel'] = rd['tags'].apply(lambda x: x.get('tunnel'))\n",
    "rd['name'] = rd['tags'].apply(lambda x: x.get('name'))# if pd.isnull(fillna(np.nan)))\n",
    "\n",
    "rd['ref'] = rd['tags'].apply(lambda x: x.get('ref'))\n",
    "rd['destination'] = rd['tags'].apply(lambda x: x.get('destination'))\n",
    "\n",
    "rd['highway'] = rd['tags'].apply(lambda x: x.get('highway'))\n",
    "rd['surface'] = rd['tags'].apply(lambda x: x.get('surface'))\n",
    "rd['oneway'] = rd['tags'].apply(lambda x: x.get('oneway'))\n",
    "\n",
    "tunnel =  rd[rd['tunnel'].isin(['yes', 'building_passage', 'avalanche_protector'])]\n",
    "print(len(rd))\n",
    "rd = rd[rd['geometry'].type != 'Polygon']#) & (rd['lanes'] != np.nan)]\n",
    "\n",
    "rd['lanes'] = pd.to_numeric(rd['lanes'])\n",
    "rd['lanes'] = rd['lanes'].fillna(0)\n",
    "rd['width'] = pd.to_numeric(rd['width'])\n",
    "rd['width'] = rd.apply(calc_width, axis=1)\n",
    "\n",
    "bridge = rd[rd['bridge'] == 'yes'].copy()\n",
    "rd = rd[rd['width'] != 0]\n",
    "print(len(rd))"
   ]
  },
  {
   "cell_type": "code",
   "execution_count": 237,
   "metadata": {},
   "outputs": [],
   "source": [
    "#- buffer_func\n",
    "def ownbuffer(row):\n",
    "    return row.geometry.buffer(round(float(row['width']) / 2, 2), cap_style=1)\n",
    "def ownbuffer02(row):\n",
    "    return row.geometry.buffer(round(float(row['width']) / 2, 2), cap_style=2)\n",
    "def ownbuffer03(row):\n",
    "    return row.geometry.buffer(round(float(row['width']) + 0.25 / 2, 2), cap_style=2)"
   ]
  },
  {
   "cell_type": "code",
   "execution_count": 238,
   "metadata": {},
   "outputs": [],
   "source": [
    "#bridge_b = bridge.copy()\n",
    "bridge_b02 = bridge.copy()\n",
    "#bridge_b['geometry'] = bridge_b.apply(ownbuffer02, axis=1)\n",
    "bridge_b02['geometry'] = bridge_b02.apply(ownbuffer03, axis=1)\n",
    "bridge_b02 = bridge_b02.dissolve()#as_index=False, dropna=False)\n",
    "#bridge_b.head(2)"
   ]
  },
  {
   "cell_type": "code",
   "execution_count": 239,
   "metadata": {},
   "outputs": [],
   "source": [
    "#https://gis.stackexchange.com/questions/286055/densify-shapely-polygon-using-ogr-segmentize\n",
    "from shapely.wkt import loads\n",
    "\n",
    "def segmentize(geom):\n",
    "    wkt = geom.wkt  # shapely Polygon to wkt\n",
    "    geom = ogr.CreateGeometryFromWkt(wkt)  # create ogr geometry\n",
    "    geom.Segmentize(5)                                                     # densify geometry\n",
    "    wkt2 = geom.ExportToWkt()  # ogr geometry to wkt\n",
    "    new = loads(wkt2)  # wkt to shapely Polygon\n",
    "    return new\n",
    "\n",
    "rd['geometry'] = rd['geometry'].apply(segmentize)"
   ]
  },
  {
   "cell_type": "code",
   "execution_count": 240,
   "metadata": {},
   "outputs": [
    {
     "data": {
      "text/html": [
       "<div>\n",
       "<style scoped>\n",
       "    .dataframe tbody tr th:only-of-type {\n",
       "        vertical-align: middle;\n",
       "    }\n",
       "\n",
       "    .dataframe tbody tr th {\n",
       "        vertical-align: top;\n",
       "    }\n",
       "\n",
       "    .dataframe thead th {\n",
       "        text-align: right;\n",
       "    }\n",
       "</style>\n",
       "<table border=\"1\" class=\"dataframe\">\n",
       "  <thead>\n",
       "    <tr style=\"text-align: right;\">\n",
       "      <th></th>\n",
       "      <th>type</th>\n",
       "      <th>id</th>\n",
       "      <th>tags</th>\n",
       "      <th>geometry</th>\n",
       "      <th>lanes</th>\n",
       "      <th>width</th>\n",
       "      <th>bridge</th>\n",
       "      <th>bridge_structure</th>\n",
       "      <th>tunnel</th>\n",
       "      <th>name</th>\n",
       "      <th>ref</th>\n",
       "      <th>destination</th>\n",
       "      <th>highway</th>\n",
       "      <th>surface</th>\n",
       "      <th>oneway</th>\n",
       "    </tr>\n",
       "  </thead>\n",
       "  <tbody>\n",
       "    <tr>\n",
       "      <th>0</th>\n",
       "      <td>way</td>\n",
       "      <td>34953479</td>\n",
       "      <td>{'access': 'private', 'highway': 'service', 'i...</td>\n",
       "      <td>LINESTRING (282025.712 6242798.110, 282029.830...</td>\n",
       "      <td>2.0</td>\n",
       "      <td>4.4</td>\n",
       "      <td>None</td>\n",
       "      <td>None</td>\n",
       "      <td>None</td>\n",
       "      <td>Engineering Way</td>\n",
       "      <td>None</td>\n",
       "      <td>None</td>\n",
       "      <td>service</td>\n",
       "      <td>asphalt</td>\n",
       "      <td>None</td>\n",
       "    </tr>\n",
       "    <tr>\n",
       "      <th>1</th>\n",
       "      <td>way</td>\n",
       "      <td>34953670</td>\n",
       "      <td>{'access': 'private', 'highway': 'service', 'i...</td>\n",
       "      <td>LINESTRING (281935.657 6242783.921, 281936.328...</td>\n",
       "      <td>2.0</td>\n",
       "      <td>4.4</td>\n",
       "      <td>None</td>\n",
       "      <td>None</td>\n",
       "      <td>None</td>\n",
       "      <td>Science Way</td>\n",
       "      <td>None</td>\n",
       "      <td>None</td>\n",
       "      <td>service</td>\n",
       "      <td>asphalt</td>\n",
       "      <td>None</td>\n",
       "    </tr>\n",
       "  </tbody>\n",
       "</table>\n",
       "</div>"
      ],
      "text/plain": [
       "  type        id  ...  surface oneway\n",
       "0  way  34953479  ...  asphalt   None\n",
       "1  way  34953670  ...  asphalt   None\n",
       "\n",
       "[2 rows x 15 columns]"
      ]
     },
     "execution_count": 240,
     "metadata": {},
     "output_type": "execute_result"
    }
   ],
   "source": [
    "rd.head(2)"
   ]
  },
  {
   "cell_type": "code",
   "execution_count": 241,
   "metadata": {},
   "outputs": [
    {
     "name": "stdout",
     "output_type": "stream",
     "text": [
      "[4.4 2.2]\n",
      "[2. 1.]\n"
     ]
    }
   ],
   "source": [
    "print(rd.width.unique())\n",
    "print(rd.lanes.unique())"
   ]
  },
  {
   "cell_type": "code",
   "execution_count": 242,
   "metadata": {},
   "outputs": [],
   "source": [
    "#https://gis.stackexchange.com/questions/137909/intersecting-lines-to-get-crossings-using-python-with-qgis\n",
    "import itertools\n",
    "inters = []\n",
    "for line1, line2 in itertools.combinations(rd.geometry, 2):\n",
    "    if line1.intersects(line2):\n",
    "        inter = line1.intersection(line2)\n",
    "        if \"Point\" == inter.type:\n",
    "            inters.append(inter)\n",
    "        elif \"MultiPoint\" == inter.type:\n",
    "            inters.extend([pt for pt in inter])\n",
    "        elif \"MultiLineString\" == inter.type:\n",
    "            multiLine = [line for line in inter]\n",
    "            first_coords = multiLine[0].coords[0]\n",
    "            last_coords = multiLine[len(multiLine)-1].coords[1]\n",
    "            inters.append(Point(first_coords[0], first_coords[1]))\n",
    "            inters.append(Point(last_coords[0], last_coords[1]))\n",
    "        elif \"GeometryCollection\" == inter.type:\n",
    "            for geom in inter:\n",
    "                if \"Point\" == geom.type:\n",
    "                    inters.append(geom)\n",
    "                elif \"MultiPoint\" == geom.type:\n",
    "                    inters.extend([pt for pt in geom])\n",
    "                elif \"MultiLineString\" == geom.type:\n",
    "                    multiLine = [line for line in geom]\n",
    "                    first_coords = multiLine[0].coords[0]\n",
    "                    last_coords = multiLine[len(multiLine)-1].coords[1]\n",
    "                    inters.append(Point(first_coords[0], first_coords[1]))\n",
    "                    inters.append(Point(last_coords[0], last_coords[1]))\n",
    "                    \n",
    "pnts = gpd.GeoDataFrame(crs=jparams['crs'], geometry=inters)                      \n",
    "p_buffer = pnts.buffer(2)\n",
    "p_buffer = gpd.GeoDataFrame(crs=jparams['crs'], geometry=p_buffer)                 "
   ]
  },
  {
   "cell_type": "code",
   "execution_count": 243,
   "metadata": {},
   "outputs": [],
   "source": [
    "rd_e = gpd.overlay(rd, p_buffer, how='difference')\n",
    "rd_e = rd_e.explode()\n",
    "rd_e.reset_index(drop=True, inplace=True)"
   ]
  },
  {
   "cell_type": "code",
   "execution_count": 244,
   "metadata": {},
   "outputs": [
    {
     "data": {
      "text/html": [
       "<div>\n",
       "<style scoped>\n",
       "    .dataframe tbody tr th:only-of-type {\n",
       "        vertical-align: middle;\n",
       "    }\n",
       "\n",
       "    .dataframe tbody tr th {\n",
       "        vertical-align: top;\n",
       "    }\n",
       "\n",
       "    .dataframe thead th {\n",
       "        text-align: right;\n",
       "    }\n",
       "</style>\n",
       "<table border=\"1\" class=\"dataframe\">\n",
       "  <thead>\n",
       "    <tr style=\"text-align: right;\">\n",
       "      <th></th>\n",
       "      <th>type</th>\n",
       "      <th>id</th>\n",
       "      <th>tags</th>\n",
       "      <th>geometry</th>\n",
       "      <th>lanes</th>\n",
       "      <th>width</th>\n",
       "      <th>bridge</th>\n",
       "      <th>bridge_structure</th>\n",
       "      <th>tunnel</th>\n",
       "      <th>name</th>\n",
       "      <th>ref</th>\n",
       "      <th>destination</th>\n",
       "      <th>highway</th>\n",
       "      <th>surface</th>\n",
       "      <th>oneway</th>\n",
       "    </tr>\n",
       "  </thead>\n",
       "  <tbody>\n",
       "    <tr>\n",
       "      <th>0</th>\n",
       "      <td>way</td>\n",
       "      <td>34953479</td>\n",
       "      <td>{'access': 'private', 'highway': 'service', 'i...</td>\n",
       "      <td>LINESTRING (282025.712 6242798.110, 282029.830...</td>\n",
       "      <td>2.0</td>\n",
       "      <td>4.4</td>\n",
       "      <td>None</td>\n",
       "      <td>None</td>\n",
       "      <td>None</td>\n",
       "      <td>Engineering Way</td>\n",
       "      <td>None</td>\n",
       "      <td>None</td>\n",
       "      <td>service</td>\n",
       "      <td>asphalt</td>\n",
       "      <td>None</td>\n",
       "    </tr>\n",
       "    <tr>\n",
       "      <th>1</th>\n",
       "      <td>way</td>\n",
       "      <td>34953670</td>\n",
       "      <td>{'access': 'private', 'highway': 'service', 'i...</td>\n",
       "      <td>LINESTRING (281935.657 6242783.921, 281936.328...</td>\n",
       "      <td>2.0</td>\n",
       "      <td>4.4</td>\n",
       "      <td>None</td>\n",
       "      <td>None</td>\n",
       "      <td>None</td>\n",
       "      <td>Science Way</td>\n",
       "      <td>None</td>\n",
       "      <td>None</td>\n",
       "      <td>service</td>\n",
       "      <td>asphalt</td>\n",
       "      <td>None</td>\n",
       "    </tr>\n",
       "  </tbody>\n",
       "</table>\n",
       "</div>"
      ],
      "text/plain": [
       "  type        id  ...  surface oneway\n",
       "0  way  34953479  ...  asphalt   None\n",
       "1  way  34953670  ...  asphalt   None\n",
       "\n",
       "[2 rows x 15 columns]"
      ]
     },
     "execution_count": 244,
     "metadata": {},
     "output_type": "execute_result"
    }
   ],
   "source": [
    "rd.head(2)"
   ]
  },
  {
   "cell_type": "code",
   "execution_count": 245,
   "metadata": {},
   "outputs": [],
   "source": [
    "pt = [line.__geo_interface__['coordinates'] for line in rd_e.geometry]\n",
    "pt_array = np.array(np.concatenate(pt))\n",
    "#pt_array"
   ]
  },
  {
   "cell_type": "code",
   "execution_count": 246,
   "metadata": {},
   "outputs": [],
   "source": [
    "po = [i for i in aoibuffer.geometry]\n",
    "x,y = po[0].exterior.coords.xy\n",
    "po = np.dstack((x,y))\n",
    "po_array = np.array(np.concatenate(po))\n",
    "\n",
    "pt_array = np.concatenate((pt_array, po_array), axis=0)"
   ]
  },
  {
   "cell_type": "code",
   "execution_count": 247,
   "metadata": {},
   "outputs": [],
   "source": [
    "from scipy.spatial import Voronoi#, voronoi_plot_2d, Delaunay\n",
    "\n",
    "vor = Voronoi(pt_array)\n",
    "lines = [shapely.geometry.LineString(vor.vertices[line]) for line in vor.ridge_vertices if -1 not in line]\n",
    "polys = shapely.ops.polygonize(lines)\n",
    "\n",
    "vo = gpd.GeoDataFrame(geometry=gpd.GeoSeries(polys), crs=jparams['crs'])    #set the crs"
   ]
  },
  {
   "cell_type": "code",
   "execution_count": 248,
   "metadata": {},
   "outputs": [],
   "source": [
    "#fig = voronoi_plot_2d(vor)\n",
    "#plt.show()"
   ]
  },
  {
   "cell_type": "code",
   "execution_count": 249,
   "metadata": {},
   "outputs": [],
   "source": [
    "join = gpd.sjoin(vo, rd_e, how=\"left\", op=\"intersects\")\n",
    "#join.head(2)"
   ]
  },
  {
   "cell_type": "code",
   "execution_count": 251,
   "metadata": {},
   "outputs": [],
   "source": [
    "#print(rd.geometry.type.unique())"
   ]
  },
  {
   "cell_type": "code",
   "execution_count": 252,
   "metadata": {},
   "outputs": [],
   "source": [
    "t_buffer = tunnel.buffer(1.5, cap_style=2)\n",
    "t_buffer = gpd.GeoDataFrame(crs=jparams['crs'], geometry=t_buffer)         # set the crs"
   ]
  },
  {
   "cell_type": "markdown",
   "metadata": {},
   "source": [
    "**Parking entrance ~~ *just in case***"
   ]
  },
  {
   "cell_type": "code",
   "execution_count": 253,
   "metadata": {},
   "outputs": [
    {
     "data": {
      "text/html": [
       "<div>\n",
       "<style scoped>\n",
       "    .dataframe tbody tr th:only-of-type {\n",
       "        vertical-align: middle;\n",
       "    }\n",
       "\n",
       "    .dataframe tbody tr th {\n",
       "        vertical-align: top;\n",
       "    }\n",
       "\n",
       "    .dataframe thead th {\n",
       "        text-align: right;\n",
       "    }\n",
       "</style>\n",
       "<table border=\"1\" class=\"dataframe\">\n",
       "  <thead>\n",
       "    <tr style=\"text-align: right;\">\n",
       "      <th></th>\n",
       "      <th>type</th>\n",
       "      <th>id</th>\n",
       "      <th>tags</th>\n",
       "      <th>geometry</th>\n",
       "    </tr>\n",
       "  </thead>\n",
       "  <tbody>\n",
       "    <tr>\n",
       "      <th>0</th>\n",
       "      <td>node</td>\n",
       "      <td>9642552565</td>\n",
       "      <td>{'access': 'private', 'amenity': 'parking_entr...</td>\n",
       "      <td>POINT (281875.526 6242910.066)</td>\n",
       "    </tr>\n",
       "  </tbody>\n",
       "</table>\n",
       "</div>"
      ],
      "text/plain": [
       "   type  ...                        geometry\n",
       "0  node  ...  POINT (281875.526 6242910.066)\n",
       "\n",
       "[1 rows x 4 columns]"
      ]
     },
     "execution_count": 253,
     "metadata": {},
     "output_type": "execute_result"
    }
   ],
   "source": [
    "pk = gpd.read_file(jparams['gjson_proj-pk'])                    # set the path\n",
    "pk.set_crs(epsg=int(jparams['crs'][-5:]), inplace=True, allow_override=True)\n",
    "pk.head(1)"
   ]
  },
  {
   "cell_type": "code",
   "execution_count": 254,
   "metadata": {},
   "outputs": [],
   "source": [
    "pk = pk[pk['geometry'].type == 'Point']\n",
    "pk.dropna(subset=['tags'], inplace=True)\n",
    "pk['entrance'] = pk['tags'].apply(lambda x: x.get('amenity'))\n",
    "pk =  pk[pk['entrance'].isin(['parking_entrance'])]\n",
    "#pk.head(1)"
   ]
  },
  {
   "cell_type": "code",
   "execution_count": 255,
   "metadata": {},
   "outputs": [],
   "source": [
    "#print(rd.geometry.type.unique())"
   ]
  },
  {
   "cell_type": "code",
   "execution_count": 256,
   "metadata": {},
   "outputs": [],
   "source": [
    "pk_buffer = pk.buffer(2.4, cap_style=3)\n",
    "pk_buffer = pk_buffer.geometry.rotate(45)                                 # why rotate? strange\n",
    "pk_buffer = gpd.GeoDataFrame(crs=jparams['crs'], geometry=pk_buffer)        # set the path\n",
    "#pk_buffer = pk_buffer.geometry.rotate(45)\n",
    "#pk_buffer.head(2)"
   ]
  },
  {
   "cell_type": "code",
   "execution_count": 257,
   "metadata": {},
   "outputs": [],
   "source": [
    "rd_b = rd.copy()\n",
    "rd_b['geometry'] = rd_b.apply(ownbuffer, axis=1)\n",
    "rd_b = rd_b.dissolve()#as_index=False, dropna=False)\n",
    "\n",
    "rd_b = rd_b.explode()\n",
    "rd_b = gpd.overlay(rd_b, t_buffer, how='difference')\n",
    "rd_b = rd_b.explode()\n",
    "rd_b = gpd.overlay(rd_b, bridge_b02, how='difference')\n",
    "rd_b = rd_b.explode()"
   ]
  },
  {
   "cell_type": "code",
   "execution_count": 258,
   "metadata": {},
   "outputs": [],
   "source": [
    "#print(rd_b.geometry.type.unique())"
   ]
  },
  {
   "cell_type": "code",
   "execution_count": 259,
   "metadata": {},
   "outputs": [
    {
     "data": {
      "text/html": [
       "<div>\n",
       "<style scoped>\n",
       "    .dataframe tbody tr th:only-of-type {\n",
       "        vertical-align: middle;\n",
       "    }\n",
       "\n",
       "    .dataframe tbody tr th {\n",
       "        vertical-align: top;\n",
       "    }\n",
       "\n",
       "    .dataframe thead th {\n",
       "        text-align: right;\n",
       "    }\n",
       "</style>\n",
       "<table border=\"1\" class=\"dataframe\">\n",
       "  <thead>\n",
       "    <tr style=\"text-align: right;\">\n",
       "      <th></th>\n",
       "      <th>geometry</th>\n",
       "      <th>index_right</th>\n",
       "      <th>type</th>\n",
       "      <th>id</th>\n",
       "      <th>tags</th>\n",
       "      <th>lanes</th>\n",
       "      <th>width</th>\n",
       "      <th>bridge</th>\n",
       "      <th>bridge_structure</th>\n",
       "      <th>tunnel</th>\n",
       "      <th>name</th>\n",
       "      <th>ref</th>\n",
       "      <th>destination</th>\n",
       "      <th>highway</th>\n",
       "      <th>surface</th>\n",
       "      <th>oneway</th>\n",
       "    </tr>\n",
       "  </thead>\n",
       "  <tbody>\n",
       "    <tr>\n",
       "      <th>589</th>\n",
       "      <td>POLYGON ((282279.592 6242603.395, 282280.687 6...</td>\n",
       "      <td>54.0</td>\n",
       "      <td>way</td>\n",
       "      <td>795692831.0</td>\n",
       "      <td>{'access': 'private', 'highway': 'service', 'l...</td>\n",
       "      <td>1.0</td>\n",
       "      <td>2.2</td>\n",
       "      <td>None</td>\n",
       "      <td>None</td>\n",
       "      <td>None</td>\n",
       "      <td>None</td>\n",
       "      <td>None</td>\n",
       "      <td>None</td>\n",
       "      <td>service</td>\n",
       "      <td>concrete</td>\n",
       "      <td>None</td>\n",
       "    </tr>\n",
       "  </tbody>\n",
       "</table>\n",
       "</div>"
      ],
      "text/plain": [
       "                                              geometry  ...  oneway\n",
       "589  POLYGON ((282279.592 6242603.395, 282280.687 6...  ...    None\n",
       "\n",
       "[1 rows x 16 columns]"
      ]
     },
     "execution_count": 259,
     "metadata": {},
     "output_type": "execute_result"
    }
   ],
   "source": [
    "rd_b = gpd.clip(rd_b, aoi)\n",
    "\n",
    "one = gpd.clip(join, rd_b)\n",
    "one.set_crs(epsg=int(jparams['crs'][-5:]), inplace=True, allow_override=True)\n",
    "one.head(1)"
   ]
  },
  {
   "cell_type": "code",
   "execution_count": 260,
   "metadata": {},
   "outputs": [
    {
     "name": "stdout",
     "output_type": "stream",
     "text": [
      "1707\n",
      "['Polygon' 'MultiPolygon']\n"
     ]
    }
   ],
   "source": [
    "print(len(one))#.head(2)\n",
    "#rd_copy.head(2)\n",
    "one.drop(one.index[one['bridge'] == 'yes'], inplace = True)\n",
    "one.drop(one.index[one['tunnel'].isin(['yes', 'building_passage', 'avalanche_protector'])], inplace = True) #rd[rd['tunnel'].isin(['yes', 'building_passage'])]\n",
    "one = one.dissolve(by=['name', 'highway', 'surface', 'oneway', 'lanes', 'ref', 'destination'], \n",
    "                   as_index=False, dropna=False)\n",
    "#one.reset_index(drop=True, inplace=True)\n",
    "print(one.geometry.type.unique())\n",
    "one = one.explode()\n",
    "one.reset_index(drop=True, inplace=True)"
   ]
  },
  {
   "cell_type": "code",
   "execution_count": 261,
   "metadata": {},
   "outputs": [
    {
     "data": {
      "text/html": [
       "<div>\n",
       "<style scoped>\n",
       "    .dataframe tbody tr th:only-of-type {\n",
       "        vertical-align: middle;\n",
       "    }\n",
       "\n",
       "    .dataframe tbody tr th {\n",
       "        vertical-align: top;\n",
       "    }\n",
       "\n",
       "    .dataframe thead th {\n",
       "        text-align: right;\n",
       "    }\n",
       "</style>\n",
       "<table border=\"1\" class=\"dataframe\">\n",
       "  <thead>\n",
       "    <tr style=\"text-align: right;\">\n",
       "      <th></th>\n",
       "      <th>name</th>\n",
       "      <th>highway</th>\n",
       "      <th>surface</th>\n",
       "      <th>oneway</th>\n",
       "      <th>lanes</th>\n",
       "      <th>ref</th>\n",
       "      <th>destination</th>\n",
       "      <th>index_right</th>\n",
       "      <th>type</th>\n",
       "      <th>id</th>\n",
       "      <th>tags</th>\n",
       "      <th>width</th>\n",
       "      <th>bridge</th>\n",
       "      <th>bridge_structure</th>\n",
       "      <th>tunnel</th>\n",
       "      <th>geometry</th>\n",
       "    </tr>\n",
       "  </thead>\n",
       "  <tbody>\n",
       "    <tr>\n",
       "      <th>55</th>\n",
       "      <td>NaN</td>\n",
       "      <td>unclassified</td>\n",
       "      <td>asphalt</td>\n",
       "      <td>NaN</td>\n",
       "      <td>2.0</td>\n",
       "      <td>NaN</td>\n",
       "      <td>NaN</td>\n",
       "      <td>14.0</td>\n",
       "      <td>way</td>\n",
       "      <td>61133431.0</td>\n",
       "      <td>{'highway': 'unclassified', 'is_in': 'Bellvill...</td>\n",
       "      <td>4.4</td>\n",
       "      <td>None</td>\n",
       "      <td>None</td>\n",
       "      <td>None</td>\n",
       "      <td>POLYGON ((281551.166 6243209.042, 281548.816 6...</td>\n",
       "    </tr>\n",
       "    <tr>\n",
       "      <th>56</th>\n",
       "      <td>NaN</td>\n",
       "      <td>unclassified</td>\n",
       "      <td>asphalt</td>\n",
       "      <td>NaN</td>\n",
       "      <td>2.0</td>\n",
       "      <td>NaN</td>\n",
       "      <td>NaN</td>\n",
       "      <td>14.0</td>\n",
       "      <td>way</td>\n",
       "      <td>61133431.0</td>\n",
       "      <td>{'highway': 'unclassified', 'is_in': 'Bellvill...</td>\n",
       "      <td>4.4</td>\n",
       "      <td>None</td>\n",
       "      <td>None</td>\n",
       "      <td>None</td>\n",
       "      <td>POLYGON ((281483.248 6243214.585, 281483.180 6...</td>\n",
       "    </tr>\n",
       "    <tr>\n",
       "      <th>57</th>\n",
       "      <td>NaN</td>\n",
       "      <td>unclassified</td>\n",
       "      <td>ground</td>\n",
       "      <td>NaN</td>\n",
       "      <td>1.0</td>\n",
       "      <td>NaN</td>\n",
       "      <td>NaN</td>\n",
       "      <td>84.0</td>\n",
       "      <td>way</td>\n",
       "      <td>968448030.0</td>\n",
       "      <td>{'access': 'private', 'highway': 'unclassified...</td>\n",
       "      <td>2.2</td>\n",
       "      <td>None</td>\n",
       "      <td>None</td>\n",
       "      <td>None</td>\n",
       "      <td>POLYGON ((282346.364 6242805.405, 282344.307 6...</td>\n",
       "    </tr>\n",
       "  </tbody>\n",
       "</table>\n",
       "</div>"
      ],
      "text/plain": [
       "   name       highway  ... tunnel                                           geometry\n",
       "55  NaN  unclassified  ...   None  POLYGON ((281551.166 6243209.042, 281548.816 6...\n",
       "56  NaN  unclassified  ...   None  POLYGON ((281483.248 6243214.585, 281483.180 6...\n",
       "57  NaN  unclassified  ...   None  POLYGON ((282346.364 6242805.405, 282344.307 6...\n",
       "\n",
       "[3 rows x 16 columns]"
      ]
     },
     "execution_count": 261,
     "metadata": {},
     "output_type": "execute_result"
    }
   ],
   "source": [
    "one.tail(3)"
   ]
  },
  {
   "cell_type": "code",
   "execution_count": 262,
   "metadata": {},
   "outputs": [
    {
     "name": "stdout",
     "output_type": "stream",
     "text": [
      "['Polygon']\n"
     ]
    }
   ],
   "source": [
    "one.dropna(subset=['geometry'], inplace=True)\n",
    "#one = one[~(one['geometry'].is_empty | one['geometry'].isna())]\n",
    "#one = one[one['geometry'].type != 'GeometryCollection']#) & (rd['lanes'] != np.nan)]\n",
    "one.loc[one[\"id\"].isnull(), \"id\"] = (one[\"id\"].isnull().cumsum()).astype(float) #\"Other\" + \n",
    "one.loc[one[\"tags\"].isnull(), \"tags\"] = [{'processing': 'ExtraFeature'}]\n",
    "#one['tags'].apply(lambda x: x if x is not None else [{'processing': 'ExtraFeature'}])\n",
    "one.reset_index(drop=True, inplace=True)\n",
    "print(one.geometry.type.unique())"
   ]
  },
  {
   "cell_type": "code",
   "execution_count": 263,
   "metadata": {},
   "outputs": [],
   "source": [
    "def rasterQuery2(mx, my, gt_forward, rb):\n",
    "    \n",
    "    px = int((mx - gt_forward[0]) / gt_forward[1])\n",
    "    py = int((my - gt_forward[3]) / gt_forward[5])\n",
    "\n",
    "    intval = rb.ReadAsArray(px, py, 1, 1)\n",
    "\n",
    "    return intval[0][0]"
   ]
  },
  {
   "cell_type": "code",
   "execution_count": 264,
   "metadata": {},
   "outputs": [],
   "source": [
    "#union = one.dissolve()\n",
    "one['x'] = one.geometry.representative_point().x\n",
    "one['y'] = one.geometry.representative_point().y\n",
    "one['ground_height'] = one.apply(lambda row: rasterQuery2(row.x, row.y, gt_forward, rb), axis = 1)"
   ]
  },
  {
   "cell_type": "code",
   "execution_count": 265,
   "metadata": {},
   "outputs": [
    {
     "name": "stdout",
     "output_type": "stream",
     "text": [
      "['Achievers Way' 'Business Way' 'Design Way' 'Education Way'\n",
      " 'Engineering Way' 'Mabaleng Way' 'Mechanical Way' 'Recreation Way'\n",
      " 'Science Way' 'Technology Way' nan]\n"
     ]
    }
   ],
   "source": [
    "#one.head(2)\n",
    "print(one.name.unique())"
   ]
  },
  {
   "cell_type": "code",
   "execution_count": 266,
   "metadata": {},
   "outputs": [
    {
     "data": {
      "image/png": "[encoded data removed]",
      "text/plain": [
       "<Figure size 792x792 with 1 Axes>"
      ]
     },
     "metadata": {},
     "output_type": "display_data"
    }
   ],
   "source": [
    "fig, ax = plt.subplots(figsize=(11, 11))\n",
    "#ax.margins(-0.2, -0.2)\n",
    "\n",
    "#rd.plot(ax=ax, facecolor='none', edgecolor='blue')\n",
    "dis.plot(ax=ax, facecolor='none', edgecolor='purple', alpha=0.2)\n",
    "one.plot(ax=ax, cmap='rainbow', facecolor='none')#, edgecolor='green')\n",
    "#plt.ylim([6243200, 6243250])\n",
    "#plt.xlim([281400, 281600])\n",
    "\n",
    "#ax.scatter(one['x'], one['y'], c='r')\n",
    "\n",
    "plt.show()"
   ]
  },
  {
   "cell_type": "code",
   "execution_count": 214,
   "metadata": {},
   "outputs": [],
   "source": [
    "#one.tail(2)"
   ]
  },
  {
   "cell_type": "code",
   "execution_count": 267,
   "metadata": {},
   "outputs": [],
   "source": [
    "#https://stackoverflow.com/questions/50916422/python-typeerror-object-of-type-int64-is-not-json-serializable\n",
    "#def np_encoder(object):\n",
    "    #if isinstance(object, np.generic):\n",
    "        #return object.item()\n",
    "    \n",
    "count = 1000000\n",
    "\n",
    "roads = {\n",
    "    \"type\": \"FeatureCollection\",\n",
    "    \"features\": []\n",
    "}\n",
    "for i, row in one.iterrows():\n",
    "    f = {\n",
    "    \"type\" : \"Feature\"\n",
    "    }\n",
    "    f[\"properties\"] = {}\n",
    "    #for p in i[\"properties\"]:\n",
    "            #-- store all OSM attributes and prefix them with osm_ \n",
    "    f[\"properties\"][\"id\"] = count\n",
    "    f[\"properties\"][\"osm_id\"] = row.id\n",
    "    if row['type'] != 'node':# and row['tags'] != None:\n",
    "        #print(i)\n",
    "        for p in row.tags:\n",
    "            f[\"properties\"][\"osm_%s\" % p] = row.tags[p]\n",
    "\n",
    "    roads['features'].append(f)\n",
    "    count += 1\n",
    "    #break"
   ]
  },
  {
   "cell_type": "code",
   "execution_count": 268,
   "metadata": {},
   "outputs": [],
   "source": [
    "#-- store the data as GeoJSON\n",
    "with open(jparams['gjson_rd_out'], 'w') as outfile:                # set the path\n",
    "    json.dump(roads, outfile)#, default=np_encoder)"
   ]
  },
  {
   "cell_type": "markdown",
   "metadata": {},
   "source": [
    "**Now we get into the *real stuff***"
   ]
  },
  {
   "cell_type": "code",
   "execution_count": 269,
   "metadata": {},
   "outputs": [],
   "source": [
    "#the holes that need to be removed from the terrain\n",
    "hsr = one[['x', 'y', 'ground_height']].copy()\n",
    "Allhs = hs.append(hsr)"
   ]
  },
  {
   "cell_type": "code",
   "execution_count": 270,
   "metadata": {},
   "outputs": [],
   "source": [
    "#prepare for and symmetric_difference the aoi/buildings_streets\n",
    "dis_c = dis.copy()\n",
    "dis_c = dis_c.append(one)"
   ]
  },
  {
   "cell_type": "code",
   "execution_count": 271,
   "metadata": {},
   "outputs": [
    {
     "name": "stdout",
     "output_type": "stream",
     "text": [
      "runtime: 0:00:21.498757\n"
     ]
    }
   ],
   "source": [
    "start = time.time()\n",
    "\n",
    "df = pd.read_csv(jparams['xyz'],                                       # set the path\n",
    "                 delimiter = ' ', header=None, names=[\"x\", \"y\", \"z\"])\n",
    "    \n",
    "geometry = [Point(xy) for xy in zip(df.x, df.y)]\n",
    "gdf = gpd.GeoDataFrame(df, crs=jparams['crs'], geometry=geometry)                    # set the crs\n",
    "    \n",
    "_symdiff = gpd.overlay(aoibuffer, dis_c, keep_geom_type=False, how='symmetric_difference') \n",
    "_mask = gdf.within(_symdiff.loc[0, 'geometry'])\n",
    "gdf = gdf.loc[_mask]\n",
    "gdf = gdf[gdf['z'] != jparams['nodata']]                               # set the correct nodata value\n",
    "gdf.reset_index(drop=True, inplace=True)\n",
    "gdf = gdf.round(2)\n",
    "\n",
    "end = time.time()\n",
    "print('runtime:', str(timedelta(seconds=(end - start))))"
   ]
  },
  {
   "cell_type": "code",
   "execution_count": 272,
   "metadata": {},
   "outputs": [],
   "source": [
    "#_symdiff.plot()"
   ]
  },
  {
   "cell_type": "markdown",
   "metadata": {},
   "source": [
    "**segments**"
   ]
  },
  {
   "cell_type": "code",
   "execution_count": 273,
   "metadata": {},
   "outputs": [],
   "source": [
    "#blds\n",
    "all_coords = []\n",
    "dps = 2\n",
    "segs = {}\n",
    "geoms = {}\n",
    "    \n",
    "for ids, row in dis.iterrows():\n",
    "    oring, z = list(row.geometry.exterior.coords), row['ground_height']\n",
    "    rounded_z = round(z, dps)\n",
    "    coords_rounded = []\n",
    "        #po = []\n",
    "    for x, y in oring:\n",
    "        rounded_x = round(x, dps)\n",
    "        rounded_y = round(y, dps)\n",
    "        coords_rounded.append((rounded_x, rounded_y, rounded_z))\n",
    "        all_coords.append([rounded_x, rounded_y, rounded_z])\n",
    "\n",
    "    for i in range(0, len(coords_rounded)-1):\n",
    "        x1, y1, z1 = coords_rounded[i]\n",
    "        x2, y2, z2 = coords_rounded[i+1]\n",
    "                    # deduplicate lines which overlap but go in different directions\n",
    "        if (x1 < x2):\n",
    "            key = (x1, y1, x2, y2)\n",
    "        else:\n",
    "            if (x1 == x2):\n",
    "                if (y1 < y2):\n",
    "                    key = (x1, y1, x2, y2)\n",
    "                else:\n",
    "                    key = (x2, y2, x1, y1)\n",
    "            else:\n",
    "                key = (x2, y2, x1, y1)\n",
    "        if key not in segs:\n",
    "            segs[key] = 1\n",
    "        else:\n",
    "            segs[key] += 1\n",
    "    ##-- if polygon has interior (ground in couryard)                \n",
    "    for interior in row.geometry.interiors:\n",
    "        oring, z = list(interior.coords), row['ground_height']\n",
    "        rounded_z = round(z, dps)\n",
    "        coords_rounded = []\n",
    "            #po = []\n",
    "        for x, y in oring:\n",
    "            rounded_x = round(x, dps)\n",
    "            rounded_y = round(y, dps)\n",
    "            coords_rounded.append((rounded_x, rounded_y, rounded_z))\n",
    "            all_coords.append([rounded_x, rounded_y, rounded_z])\n",
    "\n",
    "        for i in range(0, len(coords_rounded)-1):\n",
    "            x1, y1, z1 = coords_rounded[i]\n",
    "            x2, y2, z2 = coords_rounded[i+1]\n",
    "                        # deduplicate lines which overlap but go in different directions\n",
    "            if (x1 < x2):\n",
    "                key = (x1, y1, x2, y2)\n",
    "            else:\n",
    "                if (x1 == x2):\n",
    "                    if (y1 < y2):\n",
    "                        key = (x1, y1, x2, y2)\n",
    "                    else:\n",
    "                        key = (x2, y2, x1, y1)\n",
    "                else:\n",
    "                    key = (x2, y2, x1, y1)\n",
    "            if key not in segs:\n",
    "                segs[key] = 1\n",
    "            else:\n",
    "                segs[key] += 1\n",
    "    \n",
    "c = pd.DataFrame.from_dict(segs, orient=\"index\").reset_index()\n",
    "c.rename(columns={'index':'coords'}, inplace=True)\n",
    "    \n",
    "ac = pd.DataFrame(all_coords, columns=['x', 'y', 'z'])\n",
    "ac = ac.sort_values(by = 'z', ascending=False)\n",
    "ac.drop_duplicates(subset=['x','y'], keep= 'first', inplace=True)\n",
    "ac = ac.reset_index(drop=True)"
   ]
  },
  {
   "cell_type": "code",
   "execution_count": 274,
   "metadata": {},
   "outputs": [],
   "source": [
    "df2 = gdf.append(ac, ignore_index=True)"
   ]
  },
  {
   "cell_type": "code",
   "execution_count": 275,
   "metadata": {},
   "outputs": [
    {
     "name": "stdout",
     "output_type": "stream",
     "text": [
      "2918\n"
     ]
    }
   ],
   "source": [
    "print(len(df2))"
   ]
  },
  {
   "cell_type": "code",
   "execution_count": 276,
   "metadata": {},
   "outputs": [
    {
     "name": "stdout",
     "output_type": "stream",
     "text": [
      "1220\n"
     ]
    }
   ],
   "source": [
    "idx = []\n",
    "l = len(gdf) #- 1\n",
    "    \n",
    "for i, row in c.iterrows():\n",
    "    frx, fry = row.coords[0], row.coords[1]\n",
    "    tox, toy = row.coords[2], row.coords[3]\n",
    "\n",
    "    [index_f] = (ac[(ac['x'] == frx) & (ac['y'] == fry)].index.values)\n",
    "    [index_t] = (ac[(ac['x'] == tox) & (ac['y'] == toy)].index.values)\n",
    "    idx.append([l + index_f, l + index_t])\n",
    "print(len(idx))"
   ]
  },
  {
   "cell_type": "code",
   "execution_count": 277,
   "metadata": {},
   "outputs": [],
   "source": [
    "#aoi\n",
    "aoi_coords = []\n",
    "dps = 2\n",
    "segs = {}\n",
    "    \n",
    "for ids, row in aoibuffer.iterrows():\n",
    "    oring = list(row.geometry.exterior.coords)\n",
    "    coords_rounded = []\n",
    "    po = []\n",
    "    for x, y in oring:\n",
    "        z = rasterQuery2(x, y, gt_forward, rb)\n",
    "                \n",
    "        rounded_x = round(float(x), dps)\n",
    "        rounded_y = round(float(y), dps)\n",
    "        rounded_z = round(float(z), dps)\n",
    "        coords_rounded.append((rounded_x, rounded_y, rounded_z))\n",
    "        aoi_coords.append([rounded_x, rounded_y, rounded_z])\n",
    "\n",
    "    for i in range(0, len(coords_rounded)-1):\n",
    "        x1, y1, z1 = coords_rounded[i]\n",
    "        x2, y2, z2 = coords_rounded[i+1]\n",
    "        # deduplicate lines which overlap but go in different directions\n",
    "        if (x1 < x2):\n",
    "            key = (x1, y1, x2, y2)\n",
    "        else:\n",
    "            if (x1 == x2):\n",
    "                if (y1 < y2):\n",
    "                    key = (x1, y1, x2, y2)\n",
    "                else:\n",
    "                    key = (x2, y2, x1, y1)\n",
    "            else:\n",
    "                key = (x2, y2, x1, y1)\n",
    "        if key not in segs:\n",
    "            segs[key] = 1\n",
    "        else:\n",
    "            segs[key] += 1\n",
    "                        \n",
    "ca = pd.DataFrame.from_dict(segs, orient=\"index\").reset_index()\n",
    "ca.rename(columns={'index':'coords'}, inplace=True)\n",
    "    \n",
    "acoi = pd.DataFrame(aoi_coords, columns=['x', 'y', 'z'])\n",
    "  \n",
    "acoi = acoi.sort_values(by = 'z', ascending=False)\n",
    "acoi.drop_duplicates(subset=['x','y'], keep= 'first', inplace=True)\n",
    "acoi = acoi.reset_index(drop=True)"
   ]
  },
  {
   "cell_type": "code",
   "execution_count": 278,
   "metadata": {},
   "outputs": [],
   "source": [
    "l = len(df2) #- 1\n",
    "#l = len(df3) #- 1\n",
    "lr = 0\n",
    "idx01 = []\n",
    " \n",
    "for i, row in ca.iterrows():\n",
    "    frx, fry = row.coords[0], row.coords[1]\n",
    "    tox, toy = row.coords[2], row.coords[3]\n",
    "\n",
    "    [index_f] = (acoi[(acoi['x'] == frx) & (acoi['y'] == fry)].index.values)\n",
    "    [index_t] = (acoi[(acoi['x'] == tox) & (acoi['y'] == toy)].index.values)\n",
    "    idx.append([l + index_f, l + index_t])\n",
    "    idx01.append([lr + index_f, lr + index_t])"
   ]
  },
  {
   "cell_type": "code",
   "execution_count": 279,
   "metadata": {},
   "outputs": [],
   "source": [
    "#df4 = df3.append(acoi, ignore_index=True)\n",
    "df3 = df2.append(acoi, ignore_index=True)"
   ]
  },
  {
   "cell_type": "code",
   "execution_count": 280,
   "metadata": {},
   "outputs": [
    {
     "name": "stdout",
     "output_type": "stream",
     "text": [
      "runtime: 0:00:14.956780\n"
     ]
    }
   ],
   "source": [
    "#streets and triangulate inside every road segment\n",
    "start = time.time()\n",
    "\n",
    "r_coords = []\n",
    "r_coords02 = []\n",
    "dps = 2\n",
    "segs = {}\n",
    "segs02 = {}\n",
    "#geoms = {}\n",
    "idx01 = [] #_copy = idx01.copy()\n",
    "idx02 = []\n",
    "idxAll = []\n",
    "acoi_copy = acoi.copy()\n",
    "#l1 = 0 #len(gdf) #- 1\n",
    "l02 = len(acoi_copy)  #- 1\n",
    "#l03 = 0 #-1 #len(gdf) #- 1\n",
    "arr = [] #np.empty((0,2), int)\n",
    "Ahsr = pd.DataFrame(columns=['x', 'y', 'ground_height']) #[]\n",
    "temp_Ahsr = pd.DataFrame(columns=['x', 'y', 'ground_height']) #[]\n",
    "#pnt_df = pd.DataFrame(columns=['x', 'y', 'z'])\n",
    "#count_pnt_df = pd.DataFrame(columns=['x', 'y', 'z'])\n",
    "t_list = []\n",
    "#t_list02 = []\n",
    "rd_pts = []\n",
    "count = 0\n",
    "#idxAll.append(count)\n",
    "for ids, row in one.iterrows():\n",
    "   \n",
    "    oring = list(row.geometry.exterior.coords)\n",
    "    coords_rounded = []\n",
    "    po = []\n",
    "    for x, y in oring:\n",
    "        z = rasterQuery2(x, y, gt_forward, rb)\n",
    "\n",
    "        rounded_x = round(x, dps)\n",
    "        rounded_y = round(y, dps)\n",
    "        rounded_z = round(float(z), dps)\n",
    "        coords_rounded.append((rounded_x, rounded_y, rounded_z))\n",
    "        r_coords.append([rounded_x, rounded_y, rounded_z])\n",
    "        r_coords02.append([rounded_x, rounded_y, rounded_z])\n",
    "        \n",
    "    for i in range(0, len(coords_rounded)-1):\n",
    "        x1, y1, z1 = coords_rounded[i]\n",
    "        x2, y2, z2 = coords_rounded[i+1]\n",
    "        # deduplicate lines which overlap but go in different directions\n",
    "        #key = (x1, y1, x2, y2)\n",
    "        if (x1 < x2):\n",
    "            key = (x1, y1, x2, y2)\n",
    "        else:\n",
    "            if (x1 == x2):\n",
    "                if (y1 < y2):\n",
    "                    key = (x1, y1, x2, y2)\n",
    "                else:\n",
    "                    key = (x2, y2, x1, y1)\n",
    "            else:\n",
    "                key = (x2, y2, x1, y1)\n",
    "        if key not in segs:\n",
    "            segs[key] = 1\n",
    "        else:\n",
    "            segs[key] += 1\n",
    "        if key not in segs02:\n",
    "            segs02[key] = 1\n",
    "        else:\n",
    "            segs02[key] += 1\n",
    "    \n",
    "    arr01 = hs[['x', 'y']].round(3).values.tolist()\n",
    "    ##-- if polygon has interior (circular roads with 'islands')   \n",
    "    g = row.geometry.interiors\n",
    "    for i, interior in enumerate(g):\n",
    "\n",
    "        if interior != None:\n",
    "            x, y = interior.centroid.xy\n",
    "\n",
    "            arr.append([x[0], y[0], row['ground_height']])\n",
    "            ho = Ahsr.append(pd.DataFrame(arr, columns=['x', 'y', 'ground_height']))\n",
    "            temp_Ahsr = hs.append(ho)\n",
    "            arr = temp_Ahsr[['x', 'y']].round(3).values.tolist()\n",
    "            #print(arr)\n",
    "\n",
    "        coords_rounded = []\n",
    "        for pair in list(interior.coords):\n",
    "            #coords_rounded = []\n",
    "            x = pair[0]\n",
    "            y = pair[1]\n",
    "            z = rasterQuery2(x, y, gt_forward, rb)\n",
    "            \n",
    "            rounded_x = round(x, dps)\n",
    "            rounded_y = round(y, dps)\n",
    "            rounded_z = round(float(z), dps)\n",
    "            coords_rounded.append((rounded_x, rounded_y, rounded_z))\n",
    "            r_coords.append([rounded_x, rounded_y, rounded_z])\n",
    "            r_coords02.append([rounded_x, rounded_y, rounded_z])\n",
    "            \n",
    "        for i in range(0, len(coords_rounded)-1):\n",
    "            x1, y1, z1 = coords_rounded[i]\n",
    "            x2, y2, z2 = coords_rounded[i+1]\n",
    "            # deduplicate lines which overlap but go in different directions\n",
    "            #key = (x1, y1, x2, y2)\n",
    "            if (x1 < x2):\n",
    "                key = (x1, y1, x2, y2)\n",
    "            else:\n",
    "                if (x1 == x2):\n",
    "                    if (y1 < y2):\n",
    "                        key = (x1, y1, x2, y2)\n",
    "                    else:\n",
    "                        key = (x2, y2, x1, y1)\n",
    "                else:\n",
    "                    key = (x2, y2, x1, y1)\n",
    "            if key not in segs:\n",
    "                segs[key] = 1\n",
    "            else:\n",
    "                segs[key] += 1\n",
    "            if key not in segs02:\n",
    "                segs02[key] = 1\n",
    "            else:\n",
    "                segs02[key] += 1\n",
    "                    \n",
    "    crx = pd.DataFrame.from_dict(segs02, orient=\"index\").reset_index()\n",
    "    crx.rename(columns={'index':'coords'}, inplace=True)\n",
    "    \n",
    "    acrx = pd.DataFrame(r_coords02, columns=['x', 'y', 'z'])\n",
    "    acrx = acrx.sort_values(by = 'z', ascending=False)\n",
    "    acrx.drop_duplicates(subset=['x','y'], keep= 'first', inplace=True)\n",
    "    acrx = acrx.reset_index(drop=True)\n",
    "    acoi_copy = acoi_copy.append(acrx, ignore_index=True)\n",
    "\n",
    "    r_pts = acoi_copy[['x', 'y', 'z']].values\n",
    "    rd_pts.append(r_pts)\n",
    "    pts = acoi_copy[['x', 'y']].values\n",
    "    \n",
    "    for i, row in crx.iterrows():\n",
    "        frx, fry = row.coords[0], row.coords[1]\n",
    "        tox, toy = row.coords[2], row.coords[3]\n",
    "        [index_f] = (acrx[(acrx['x'] == frx) & (acrx['y'] == fry)].index.values)\n",
    "        [index_t] = (acrx[(acrx['x'] == tox) & (acrx['y'] == toy)].index.values)\n",
    "        idx01.append([l02 + index_f, l02 + index_t])\n",
    "\n",
    "    idxAll.append(idx01)\n",
    "    if len(arr) >= 1:\n",
    "        A = dict(vertices=pts, segments=idx01, holes=arr)\n",
    "    else:\n",
    "        A = dict(vertices=pts, segments=idx01, holes=arr01)\n",
    "    Tr = tr.triangulate(A, 'pVV')  # the VV will print stats in the cmd\n",
    "    t = Tr.get('triangles').tolist()\n",
    "    #tr.plot(plt.axes(), **Tr)\n",
    "    t_list.append(t)\n",
    "\n",
    "    arr = [] #np.empty((0,2), int)\n",
    "    segs02 = {}\n",
    "    r_coords02 = []\n",
    "    idx01 = [] #idx01_copy.copy()\n",
    "\n",
    "    acoi_copy = acoi.copy()\n",
    "                                \n",
    "cr = pd.DataFrame.from_dict(segs, orient=\"index\").reset_index()\n",
    "cr.rename(columns={'index':'coords'}, inplace=True)\n",
    "    \n",
    "acr = pd.DataFrame(r_coords, columns=['x', 'y', 'z'])\n",
    "acr = acr.sort_values(by = 'z', ascending=False)\n",
    "acr.drop_duplicates(subset=['x','y'], keep= 'first', inplace=True)\n",
    "acr = acr.reset_index(drop=True)\n",
    "\n",
    "end = time.time()\n",
    "print('runtime:', str(timedelta(seconds=(end - start))))"
   ]
  },
  {
   "cell_type": "code",
   "execution_count": 281,
   "metadata": {},
   "outputs": [],
   "source": [
    "#df3 = df2.append(acr, ignore_index=True)\n",
    "df4 = df3.append(acr, ignore_index=True)"
   ]
  },
  {
   "cell_type": "code",
   "execution_count": 282,
   "metadata": {},
   "outputs": [
    {
     "name": "stdout",
     "output_type": "stream",
     "text": [
      "9665\n"
     ]
    }
   ],
   "source": [
    "l = len(df3) #- 1\n",
    "#rdSegs = []\n",
    "    \n",
    "for i, row in cr.iterrows():\n",
    "    frx, fry = row.coords[0], row.coords[1]\n",
    "    tox, toy = row.coords[2], row.coords[3]\n",
    "\n",
    "    [index_f] = (acr[(acr['x'] == frx) & (acr['y'] == fry)].index.values)\n",
    "    [index_t] = (acr[(acr['x'] == tox) & (acr['y'] == toy)].index.values)\n",
    "    idx.append([l + index_f, l + index_t])\n",
    "    #rdSegs.append([lr + index_f, lr + index_t])\n",
    "print(len(idx))"
   ]
  },
  {
   "cell_type": "markdown",
   "metadata": {},
   "source": [
    "**Triangle**"
   ]
  },
  {
   "cell_type": "code",
   "execution_count": 283,
   "metadata": {},
   "outputs": [],
   "source": [
    "#pv_pts = df3[['x', 'y', 'z']].values\n",
    "pv_pts = df4[['x', 'y', 'z']].values"
   ]
  },
  {
   "cell_type": "code",
   "execution_count": 284,
   "metadata": {},
   "outputs": [],
   "source": [
    "holes01 = Allhs[['x', 'y']].round(3).values.tolist()\n",
    "#pts = df3[['x', 'y']].values #, 'z']].values\n",
    "pts = df4[['x', 'y']].values #, 'z']].values\n",
    "\n",
    "#the terrain without the blds and streets\n",
    "A = dict(vertices=pts, segments=idx, holes=holes01)\n",
    "Tr = tr.triangulate(A, 'pVV')  # the VV will print stats in the cmd\n",
    "terrTin = Tr.get('triangles').tolist()"
   ]
  },
  {
   "cell_type": "markdown",
   "metadata": {},
   "source": [
    "**Plot**"
   ]
  },
  {
   "cell_type": "code",
   "execution_count": 285,
   "metadata": {},
   "outputs": [],
   "source": [
    "l = np.vstack(idx)\n",
    "l = l.reshape([-1, 2])\n",
    "twos = np.array([[2]] * len(idx))\n",
    "lines = np.append(twos, l, axis=1)\n",
    "    \n",
    "trin = pv.PolyData(pv_pts)\n",
    "polygon2 = pv.PolyData(pv_pts)\n",
    "holes = pv.PolyData()\n",
    "# Make sure it has the same points as the mesh being triangulated\n",
    "trin.points = pv_pts\n",
    "holes = Allhs[['x', 'y', 'ground_height']].values"
   ]
  },
  {
   "cell_type": "code",
   "execution_count": 286,
   "metadata": {},
   "outputs": [],
   "source": [
    "faces = np.insert(terrTin, 0, np.full((1, len(terrTin)), 3), axis=1)\n",
    "trin.faces = faces\n",
    "polygon2.lines = lines"
   ]
  },
  {
   "cell_type": "markdown",
   "metadata": {},
   "source": [
    "## !!Stop!!  \n",
    "\n",
    "**Its failing here: run with `#p.add_mesh(trin, color=\"blue\", show_edges=True, opacity=0.2)` and check**"
   ]
  },
  {
   "cell_type": "code",
   "execution_count": 287,
   "metadata": {},
   "outputs": [],
   "source": [
    "p = pv.Plotter(window_size=[750, 450], notebook=False)\n",
    "p.add_mesh(trin, color=\"blue\", show_edges=True, opacity=0.2)\n",
    "p.add_mesh(polygon2, color=\"black\", opacity=0.3, render_points_as_spheres=False)\n",
    "p.add_mesh(holes, color=\"red\")\n",
    "    \n",
    "p.set_background('white')\n",
    "p.show()"
   ]
  },
  {
   "cell_type": "code",
   "execution_count": null,
   "metadata": {},
   "outputs": [],
   "source": []
  },
  {
   "attachments": {
    "qc_rds-a.png": {
     "image/png": "[encoded data removed]"
    },
    "qc_rds-b.png": {
     "image/png": "[encoded data removed]"
    },
    "qc_rds-c.png": {
     "image/png": "[encoded data removed]"
    }
   },
   "cell_type": "markdown",
   "metadata": {},
   "source": [
    "|  |  |\n",
    "|:--------:|:--------:|\n",
    "|![qc_rds-a.png](attachment:qc_rds-a.png) | **It will be more challenging <br /> to find where the problem is**|\n",
    "|![qc_rds-b.png](attachment:qc_rds-b.png) | **Generally where lines cross**|\n",
    "|<br /> **If you continue the LoD1 City Model *will not be error free*.** | <br /> **Our goal is a topologically correct surface.** |\n",
    "|![qc_rds-c.png](attachment:qc_rds-c.png)| **The model will have holes, gaps <br /> and will *NOT* be watertight<br /> (the slivers of blue on the side of the building) <br /> *---not what we want.* <br /> <br /> Either the alignment of the road must change <br /> *---perhaps the width is incorrect?---* <br /> or the building must move.**|\n",
    "\n",
    "<h2><center>Please create a topologically correct surface!</center></h2>"
   ]
  },
  {
   "cell_type": "markdown",
   "metadata": {},
   "source": [
    "**Prepare for CityJSON**"
   ]
  },
  {
   "cell_type": "code",
   "execution_count": 289,
   "metadata": {},
   "outputs": [],
   "source": [
    "minz = df4['z'].min()\n",
    "maxz = df4['z'].max()"
   ]
  },
  {
   "cell_type": "code",
   "execution_count": 290,
   "metadata": {},
   "outputs": [],
   "source": [
    "def rasterQuery(geom, gt_forward, rb):\n",
    "    mx = geom.representative_point().x\n",
    "    my = geom.representative_point().y\n",
    "  \n",
    "    px = int((mx - gt_forward[0]) / gt_forward[1])\n",
    "    py = int((my - gt_forward[3]) / gt_forward[5])\n",
    "    \n",
    "    intval = rb.ReadAsArray(px, py, 1, 1)\n",
    "    \n",
    "    return intval[0][0]"
   ]
  },
  {
   "cell_type": "code",
   "execution_count": 291,
   "metadata": {},
   "outputs": [],
   "source": [
    "if len(SKwalk) > 0:\n",
    "    SKwalk['mean'] = SKwalk.apply(lambda row: rasterQuery(row.geometry, gt_forward, rb), axis = 1)"
   ]
  },
  {
   "cell_type": "code",
   "execution_count": 292,
   "metadata": {},
   "outputs": [],
   "source": [
    "#SKwalk"
   ]
  },
  {
   "cell_type": "code",
   "execution_count": 293,
   "metadata": {},
   "outputs": [],
   "source": [
    "storeyheight = 2.8\n",
    "#-- iterate through the skywalk features\n",
    "skywalk = {\n",
    "    \"type\": \"FeatureCollection\",\n",
    "    \"features\": []\n",
    "}\n",
    "for i, row in SKwalk.iterrows():\n",
    "    f = {\n",
    "    \"type\" : \"Feature\"\n",
    "    }\n",
    "        \n",
    "    f[\"properties\"] = {}\n",
    "            \n",
    "    #-- store all OSM attributes and prefix them with osm_ \n",
    "    f[\"properties\"][\"osm_id\"] = row.id\n",
    "    for p in row.tags:\n",
    "        f[\"properties\"][\"osm_%s\" % p] = row.tags[p]\n",
    "            \n",
    "    osm_shape = shape(row[\"geometry\"])\n",
    "    #-- a few buildings are not polygons, rather linestrings. This converts them to polygons\n",
    "    #-- rare, but if not done it breaks the code later\n",
    "    if osm_shape.type == 'LineString':\n",
    "        osm_shape = Polygon(osm_shape)\n",
    "    #-- and multipolygons must be accounted for\n",
    "    elif osm_shape.type == 'MultiPolygon':\n",
    "        #osm_shape = Polygon(osm_shape[0])\n",
    "        for poly in osm_shape:\n",
    "            osm_shape = Polygon(poly)#[0])\n",
    "            #-- convert the shapely object to geojson\n",
    "                \n",
    "    f[\"geometry\"] = mapping(osm_shape)\n",
    "            \n",
    "    f[\"properties\"]['ground_height'] = round(row[\"mean\"], 2)\n",
    "    if row.tags['min_height'] != None:\n",
    "        f[\"properties\"]['min_height'] = round((float(row.tags['min_height'])) + row[\"mean\"], 2)\n",
    "    else:\n",
    "        f[\"properties\"]['min_height'] = round((float(row.tags['building:min_level']) * storeyheight) + row[\"mean\"], 2)\n",
    "        \n",
    "    f[\"properties\"]['building_height'] = round(float(row.tags['building:levels']) * storeyheight, 2)\n",
    "    f[\"properties\"]['max_height'] = round(f[\"properties\"]['building_height'] + row[\"mean\"], 2)\n",
    "    skywalk['features'].append(f)"
   ]
  },
  {
   "cell_type": "code",
   "execution_count": 294,
   "metadata": {},
   "outputs": [
    {
     "name": "stdout",
     "output_type": "stream",
     "text": [
      "22\n"
     ]
    }
   ],
   "source": [
    "print(len(roof))"
   ]
  },
  {
   "cell_type": "code",
   "execution_count": 295,
   "metadata": {},
   "outputs": [],
   "source": [
    "if len(roof) > 0:\n",
    "    roof['mean'] = roof.apply(lambda row: rasterQuery(row.geometry, gt_forward, rb), axis = 1)"
   ]
  },
  {
   "cell_type": "code",
   "execution_count": 296,
   "metadata": {},
   "outputs": [],
   "source": [
    "storeyheight = 2.8\n",
    "#-- iterate through the rooves\n",
    "_roof = {\n",
    "    \"type\": \"FeatureCollection\",\n",
    "    \"features\": []\n",
    "}\n",
    "for i, row in roof.iterrows():\n",
    "    f = {\n",
    "    \"type\" : \"Feature\"\n",
    "    }\n",
    "    # at a minimum we only want some tags   \n",
    "    if row['type'] != 'node' and row['tags'] != None and 'building:levels' in row['tags']:\n",
    "        \n",
    "        f[\"properties\"] = {}\n",
    "            \n",
    "        #-- store all OSM attributes and prefix them with osm_ \n",
    "        f[\"properties\"][\"osm_id\"] = row.id\n",
    "        for p in row.tags:\n",
    "            f[\"properties\"][\"osm_%s\" % p] = row.tags[p]\n",
    "            \n",
    "        osm_shape = shape(row[\"geometry\"])\n",
    "        #-- a few buildings are not polygons, rather linestrings. This converts them to polygons\n",
    "        #-- rare, but if not done it breaks the code later\n",
    "        if osm_shape.type == 'LineString':\n",
    "            osm_shape = Polygon(osm_shape)\n",
    "        #-- and multipolygons must be accounted for\n",
    "        elif osm_shape.type == 'MultiPolygon':\n",
    "        #osm_shape = Polygon(osm_shape[0])\n",
    "            for poly in osm_shape:\n",
    "                osm_shape = Polygon(poly)#[0])\n",
    "                #-- convert the shapely object to geojson\n",
    "                \n",
    "        f[\"geometry\"] = mapping(osm_shape)\n",
    "            \n",
    "        f[\"properties\"]['ground_height'] = round(row[\"mean\"], 2)\n",
    "        f[\"properties\"]['bottom_roof_height'] = round(float(row.tags['building:levels']) * storeyheight + row[\"mean\"], 2) \n",
    "        f[\"properties\"]['top_roof_height'] = round(f[\"properties\"]['bottom_roof_height'] + 1.5, 2)\n",
    "        _roof['features'].append(f)"
   ]
  },
  {
   "cell_type": "code",
   "execution_count": 297,
   "metadata": {},
   "outputs": [],
   "source": []
  },
  {
   "cell_type": "code",
   "execution_count": 298,
   "metadata": {},
   "outputs": [],
   "source": [
    "def doVcBndGeomRd(lsgeom, lsattributes, rdattributes, t_list, rd_pts, extent, minz, maxz, TerrainT, pts, acoi, \n",
    "                jparams, skywgeom=None, skywgeomattributes=None,\n",
    "                roofgeom=None, roofgeomattributes=None): \n",
    "    #-- create the JSON data structure for the City Model\n",
    "    cm = {}\n",
    "    cm[\"type\"] = \"CityJSON\"\n",
    "    cm[\"version\"] = \"1.1\"\n",
    "    #cm[\"transform\"] = {\n",
    "    #    \"scale\": [0.0, 0.0, 0.0],\n",
    "    #    \"translate\": [1.0, 1.0, 1.0]\n",
    "    #},\n",
    "    cm[\"CityObjects\"] = {}\n",
    "    cm[\"vertices\"] = []\n",
    "    #-- Metadata is added manually\n",
    "    cm[\"metadata\"] = {\n",
    "    \"title\": jparams['cjsn_title'],\n",
    "    \"referenceDate\": jparams['cjsn_referenceDate'],\n",
    "    \"referenceSystem\": jparams['cjsn_referenceSystem'],\n",
    "    \"geographicalExtent\": [\n",
    "        extent[0],\n",
    "        extent[1],\n",
    "        minz ,\n",
    "        extent[1],\n",
    "        extent[1],\n",
    "        maxz\n",
    "      ],\n",
    "    \"datasetPointOfContact\": {\n",
    "        \"contactName\": jparams['cjsn_contactName'],\n",
    "        \"emailAddress\": jparams['cjsn_emailAddress'],\n",
    "        \"contactType\": jparams['cjsn_contactType'],\n",
    "        \"website\": jparams['cjsn_website']\n",
    "        },\n",
    "    \"+metadata-extended\": {\n",
    "        \"lineage\":\n",
    "            [{\"featureIDs\": [\"TINRelief\"],\n",
    "             \"source\": [\n",
    "                 {\n",
    "                     \"description\": jparams['cjsn_+meta-description'],\n",
    "                     \"sourceSpatialResolution\": jparams['cjsn_+meta-sourceSpatialResolution'],\n",
    "                     \"sourceReferenceSystem\": jparams['cjsn_+meta-sourceReferenceSystem'],\n",
    "                     \"sourceCitation\":jparams['cjsn_+meta-sourceCitation'],\n",
    "                     }],\n",
    "             \"processStep\": {\n",
    "                 \"description\" : \"Processing of raster DEM using osm_LoD1_3DCityModel workflow\",\n",
    "                 \"processor\": {\n",
    "                     \"contactName\": jparams['cjsn_contactName'],\n",
    "                     \"contactType\": jparams['cjsn_contactType'],\n",
    "                     \"website\": jparams['cjsn_website']\n",
    "                     }\n",
    "                 }\n",
    "            },\n",
    "            {\"featureIDs\": [\"Building\", \"Road\"],\n",
    "             \"source\": [\n",
    "                 {\n",
    "                     \"description\": \"OpenStreetMap contributors\",\n",
    "                     \"sourceReferenceSystem\": \"urn:ogc:def:crs:EPSG:4326\",\n",
    "                     \"sourceCitation\": \"https://www.openstreetmap.org\",\n",
    "                 }],\n",
    "             \"processStep\": {\n",
    "                 \"description\" : \"Processing of building vector contributions using osm_LoD1_3DCityModel workflow\",\n",
    "                 \"processor\": {\n",
    "                     \"contactName\": jparams['cjsn_contactName'],\n",
    "                     \"contactType\": jparams['cjsn_contactType'],\n",
    "                     \"website\": \"https://github.com/AdrianKriger/osm_LoD1_3DCityModel\"\n",
    "                     }\n",
    "                 }\n",
    "            }]\n",
    "        }\n",
    "    }\n",
    "    ##-- do terrain\n",
    "    add_terrain_v(pts, cm)\n",
    "    grd = {}\n",
    "    grd['type'] = 'TINRelief'\n",
    "    grd['geometry'] = [] #-- a cityobject can have >1 \n",
    "     #-- the geometry\n",
    "    g = {} \n",
    "    g['type'] = 'CompositeSurface'\n",
    "    g['lod'] = 1\n",
    "    g['boundaries'] = []\n",
    "    allsurfaces = [] #-- list of surfaces\n",
    "    add_terrain_b(TerrainT, allsurfaces)\n",
    "    g['boundaries'] = allsurfaces\n",
    "    #print(g['boundaries'])\n",
    "    #g['boundaries'].append(allsurfaces)\n",
    "      #-- add the geom \n",
    "    grd['geometry'].append(g)\n",
    "      #-- insert the terrain as one new city object\n",
    "    cm['CityObjects']['terrain01'] = grd\n",
    "    \n",
    "    ##-- do roads\n",
    "    for i, (rp, Rtin) in enumerate(zip(rd_pts, t_list)):\n",
    "        rp = rp[len(acoi):, :]\n",
    "        add_rd_v(rp, acoi, cm)\n",
    "        onerd = {}\n",
    "        onerd['type'] = 'Road'\n",
    "        onerd['geometry'] = [] #-- a cityobject can have >1 \n",
    "          #-- the geometry\n",
    "        g = {} \n",
    "        g['type'] = 'MultiSurface'\n",
    "        g['lod'] = 1\n",
    "        g['boundaries'] = []\n",
    "        allsurfaces = [] #-- list of surfaces\n",
    "        add_rd_b(Rtin, rp, acoi, allsurfaces, cm)\n",
    "        #add_rd_b(t_list[count], rp, acoi, allsurfaces, cm)\n",
    "        onerd['attributes'] = {}\n",
    "        for k, v in list(rdattributes[i].items()):\n",
    "            if v is None:\n",
    "                del rdattributes[i][k]\n",
    "        for a in rdattributes[i]:\n",
    "            onerd['attributes'][a] = rdattributes[i][a]\n",
    "        g['boundaries'] = allsurfaces\n",
    "        #g['boundaries'].append(allsurfaces)\n",
    "          #-- add the geom \n",
    "        onerd['geometry'].append(g)\n",
    "        #print(g['boundaries'])\n",
    "        #onerd['geometry'] = g\n",
    "          #-- insert one road as one new city object\n",
    "        cm['CityObjects'][rdattributes[i]['id']] = onerd\n",
    "        #count = count + 1\n",
    "        #break\n",
    "    \n",
    "     #-- then buildings\n",
    "    for (i, geom) in enumerate(lsgeom):\n",
    "        footprint = geom\n",
    "        #-- one building\n",
    "        oneb = {}\n",
    "        oneb['type'] = 'Building'\n",
    "        oneb['attributes'] = {}\n",
    "        for k, v in list(lsattributes[i].items()):\n",
    "            if v is None:\n",
    "                del lsattributes[i][k]\n",
    "        for a in lsattributes[i]:\n",
    "            oneb['attributes'][a] = lsattributes[i][a]\n",
    "        oneb['geometry'] = [] #-- a cityobject can have > 1\n",
    "        #-- the geometry\n",
    "        g = {} \n",
    "        g['type'] = 'Solid'\n",
    "        g['lod'] = 1\n",
    "        allsurfaces = [] #-- list of surfaces forming the oshell of the solid\n",
    "        #-- exterior ring of each footprint\n",
    "        oring = list(footprint.exterior.coords)\n",
    "        oring.pop() #-- remove last point since first==last\n",
    "        if footprint.exterior.is_ccw == False:\n",
    "            #-- to get proper orientation of the normals\n",
    "            oring.reverse() \n",
    "        extrude_walls(oring, lsattributes[i]['roof_height'], lsattributes[i]['ground_height'],\n",
    "                      allsurfaces, cm)\n",
    "        #-- interior rings of each footprint\n",
    "        irings = []\n",
    "        interiors = list(footprint.interiors)\n",
    "        for each in interiors:\n",
    "            iring = list(each.coords)\n",
    "            iring.pop() #-- remove last point since first==last\n",
    "            if each.is_ccw == True:\n",
    "                #-- to get proper orientation of the normals\n",
    "                iring.reverse() \n",
    "            irings.append(iring)\n",
    "            extrude_walls(iring, lsattributes[i]['roof_height'], lsattributes[i]['ground_height'],\n",
    "                          allsurfaces, cm)\n",
    "        #-- top-bottom surfaces\n",
    "        extrude_roof_ground(oring, irings, lsattributes[i]['roof_height'], \n",
    "                            False, allsurfaces, cm)\n",
    "        extrude_roof_ground(oring, irings, lsattributes[i]['ground_height'], \n",
    "                            True, allsurfaces, cm)\n",
    "        #-- add the extruded geometry to the geometry\n",
    "        g['boundaries'] = []\n",
    "        g['boundaries'].append(allsurfaces)\n",
    "        #g['boundaries'] = allsurfaces\n",
    "        #-- add the geom to the building \n",
    "        oneb['geometry'].append(g)\n",
    "        #-- insert the building as one new city object\n",
    "        cm['CityObjects'][lsattributes[i]['osm_id']] = oneb\n",
    "        \n",
    "    #-- then sykwalk\n",
    "    if skywgeom != None:\n",
    "        for (i, geom) in enumerate(skywgeom):\n",
    "            skyprint = geom\n",
    "        #-- one building\n",
    "            oneb = {}\n",
    "            oneb['type'] = 'Bridge'\n",
    "            oneb['attributes'] = {}\n",
    "            for k, v in list(skywgeomattributes[i].items()):\n",
    "                if v is None:\n",
    "                    del skywgeomattributes[i][k]\n",
    "            for a in skywgeomattributes[i]:\n",
    "                oneb['attributes'][a] = skywgeomattributes[i][a]\n",
    "        \n",
    "            oneb['geometry'] = [] #-- a cityobject can have > 1\n",
    "             #-- the geometry\n",
    "            g = {} \n",
    "            g['type'] = 'Solid'\n",
    "            g['lod'] = 1\n",
    "            allsurfaces = [] #-- list of surfaces forming the oshell of the solid\n",
    "            #-- exterior ring of each footprint\n",
    "            oring = list(skyprint.exterior.coords)\n",
    "            oring.pop() #-- remove last point since first==last\n",
    "            if skyprint.exterior.is_ccw == False:\n",
    "                #-- to get proper orientation of the normals\n",
    "                oring.reverse() \n",
    "            extrude_walls(oring, skywgeomattributes[i]['max_height'], skywgeomattributes[i]['min_height'],\n",
    "                          allsurfaces, cm)\n",
    "            #-- interior rings of each footprint\n",
    "            irings = []\n",
    "            interiors = list(skyprint.interiors)\n",
    "            for each in interiors:\n",
    "                iring = list(each.coords)\n",
    "                iring.pop() #-- remove last point since first==last\n",
    "                if each.is_ccw == True:\n",
    "                    #-- to get proper orientation of the normals\n",
    "                    iring.reverse() \n",
    "                irings.append(iring)\n",
    "                extrude_walls(iring, skywgeomattributes[i]['max_height'], skywgeomattributes[i]['min_height'],\n",
    "                              allsurfaces, cm)\n",
    "            #-- top-bottom surfaces\n",
    "            extrude_roof_ground(oring, irings, skywgeomattributes[i]['max_height'], \n",
    "                                False, allsurfaces, cm)\n",
    "            extrude_roof_ground(oring, irings, skywgeomattributes[i]['min_height'], \n",
    "                                True, allsurfaces, cm)\n",
    "            #-- add the extruded geometry to the geometry\n",
    "            g['boundaries'] = []\n",
    "            g['boundaries'].append(allsurfaces)\n",
    "            #g['boundaries'] = allsurfaces\n",
    "            #-- add the geom to the building \n",
    "            oneb['geometry'].append(g)\n",
    "            #-- insert the building as one new city object\n",
    "            cm['CityObjects'][skywgeomattributes[i]['osm_id']] = oneb\n",
    "\n",
    "    #-- then roof\n",
    "    if roofgeom != None:\n",
    "        for (i, geom) in enumerate(roofgeom):\n",
    "            roofprint = geom\n",
    "            #-- one building\n",
    "            oneb = {}\n",
    "            oneb['type'] = 'Building'\n",
    "            oneb['attributes'] = {}\n",
    "            for k, v in list(roofgeomattributes[i].items()):\n",
    "                if v is None:\n",
    "                    del roofgeomattributes[i][k]\n",
    "            for a in roofgeomattributes[i]:\n",
    "                oneb['attributes'][a] = roofgeomattributes[i][a]\n",
    "        \n",
    "            oneb['geometry'] = [] #-- a cityobject can have > 1\n",
    "            #-- the geometry\n",
    "            g = {} \n",
    "            g['type'] = 'Solid'\n",
    "            g['lod'] = 1\n",
    "            allsurfaces = [] #-- list of surfaces forming the oshell of the solid\n",
    "            #-- exterior ring of each footprint\n",
    "            oring = list(roofprint.exterior.coords)\n",
    "            oring.pop() #-- remove last point since first==last\n",
    "            if roofprint.exterior.is_ccw == False:\n",
    "                #-- to get proper orientation of the normals\n",
    "                oring.reverse() \n",
    "            extrude_walls(oring, roofgeomattributes[i]['top_roof_height'], \n",
    "                          roofgeomattributes[i]['bottom_roof_height'],\n",
    "                          allsurfaces, cm)\n",
    "            #-- interior rings of each footprint\n",
    "            irings = []\n",
    "            interiors = list(roofprint.interiors)\n",
    "            for each in interiors:\n",
    "                iring = list(each.coords)\n",
    "                iring.pop() #-- remove last point since first==last\n",
    "                if each.is_ccw == True:\n",
    "                #-- to get proper orientation of the normals\n",
    "                    iring.reverse() \n",
    "                irings.append(iring)\n",
    "                extrude_walls(iring, roofgeomattributes[i]['top_roof_height'], \n",
    "                              roofgeomattributes[i]['bottom_roof_height'],\n",
    "                              allsurfaces, cm)\n",
    "            #-- top-bottom surfaces\n",
    "            extrude_roof_ground(oring, irings, roofgeomattributes[i]['top_roof_height'], \n",
    "                                False, allsurfaces, cm)\n",
    "            extrude_roof_ground(oring, irings, roofgeomattributes[i]['bottom_roof_height'], \n",
    "                                True, allsurfaces, cm)\n",
    "            #-- add the extruded geometry to the geometry\n",
    "            g['boundaries'] = []\n",
    "            g['boundaries'].append(allsurfaces)\n",
    "            #g['boundaries'] = allsurfaces\n",
    "            #-- add the geom to the building \n",
    "            oneb['geometry'].append(g)\n",
    "            #-- insert the building as one new city object\n",
    "            cm['CityObjects'][roofgeomattributes[i]['osm_id']] = oneb\n",
    "    return cm\n",
    "\n",
    "def add_terrain_v(pts, cm):\n",
    "    for p in pts:\n",
    "        cm['vertices'].append([p[0], p[1], p[2]])\n",
    "    \n",
    "def add_terrain_b(Terr, allsurfaces):\n",
    "    for i in Terr:\n",
    "        allsurfaces.append([[i[0], i[1], i[2]]]) \n",
    "        \n",
    "def add_rd_v(pts, acoi, cm):\n",
    "    for p in pts:\n",
    "        #p = p.astype('float64')\n",
    "        cm['vertices'].append([p[0], p[1], p[2]])\n",
    "\n",
    "def add_rd_b(trtin, pts, acoi, allsurfaces, cm):\n",
    "    #print(len(T))\n",
    "    for i in trtin:\n",
    "        allsurfaces.append([[i[0]+len(cm['vertices'])-len(pts)-len(acoi), \n",
    "                             i[1]+len(cm['vertices'])-len(pts)-len(acoi),\n",
    "                             i[2]+len(cm['vertices'])-len(pts)-len(acoi)]])  \n",
    "        \n",
    "def extrude_roof_ground(orng, irngs, height, reverse, allsurfaces, cm):\n",
    "    oring = copy.deepcopy(orng)\n",
    "    irings = copy.deepcopy(irngs)\n",
    "    if reverse == True:\n",
    "        oring.reverse()\n",
    "        for each in irings:\n",
    "            each.reverse()\n",
    "    for (i, pt) in enumerate(oring):\n",
    "        cm['vertices'].append([pt[0], pt[1], height])\n",
    "        oring[i] = (len(cm['vertices']) - 1)\n",
    "    for (i, iring) in enumerate(irings):\n",
    "        for (j, pt) in enumerate(iring):\n",
    "            cm['vertices'].append([pt[0], pt[1], height])\n",
    "            irings[i][j] = (len(cm['vertices']) - 1)\n",
    "    output = []\n",
    "    output.append(oring)\n",
    "    for each in irings:\n",
    "        output.append(each)\n",
    "    allsurfaces.append(output)\n",
    "\n",
    "def extrude_walls(ring, height, ground, allsurfaces, cm):\n",
    "    #-- each edge become a wall, ie a rectangle\n",
    "    for (j, v) in enumerate(ring[:-1]):\n",
    "        l = []\n",
    "        cm['vertices'].append([ring[j][0],   ring[j][1],   ground])\n",
    "        cm['vertices'].append([ring[j+1][0], ring[j+1][1], ground])\n",
    "        cm['vertices'].append([ring[j+1][0], ring[j+1][1], height])\n",
    "        cm['vertices'].append([ring[j][0],   ring[j][1],   height])\n",
    "        t = len(cm['vertices'])\n",
    "        allsurfaces.append([[t-4, t-3, t-2, t-1]])    \n",
    "    #-- last-first edge\n",
    "    l = []\n",
    "    cm['vertices'].append([ring[-1][0], ring[-1][1], ground])\n",
    "    cm['vertices'].append([ring[0][0],  ring[0][1],  ground])\n",
    "    cm['vertices'].append([ring[0][0],  ring[0][1],  height])\n",
    "    cm['vertices'].append([ring[-1][0], ring[-1][1], height])\n",
    "    t = len(cm['vertices'])\n",
    "    allsurfaces.append([[t-4, t-3, t-2, t-1]])\n",
    "    "
   ]
  },
  {
   "cell_type": "code",
   "execution_count": null,
   "metadata": {},
   "outputs": [],
   "source": []
  },
  {
   "cell_type": "code",
   "execution_count": 307,
   "metadata": {},
   "outputs": [],
   "source": [
    "def output_cityjson(extent, minz, maxz, TerrainT, pts, Tr_list, rd_pts, jparams, skywalk, roof, acoi):\n",
    "    \"\"\"\n",
    "    basic function to produce LoD1 City Model\n",
    "    - buildings and terrain\n",
    "    \"\"\"\n",
    "     ##- open buildings ---fiona object\n",
    "    c = fiona.open(jparams['osm_bldings'])\n",
    "    lsgeom = [] #-- list of the geometries\n",
    "    lsattributes = [] #-- list of the attributes\n",
    "    for each in c:\n",
    "        lsgeom.append(shape(each['geometry'])) #-- geom are casted to Fiona's \n",
    "        lsattributes.append(each['properties'])\n",
    "    \n",
    "    ##- open roads ---fiona object\n",
    "    rd = fiona.open(jparams['gjson_rd_out'])\n",
    "    rdgeom = [] #-- list of the geometries\n",
    "    rdattributes = [] #-- list of the attributes\n",
    "    for each in rd:\n",
    "        #rdgeom.append(shape(each['geometry'])) #-- geom are casted to Fiona's \n",
    "        rdattributes.append(each['properties'])\n",
    "        \n",
    "    ##- open skywalk ---fiona object\n",
    "    #if len(SKwalk) > 0:\n",
    "    if len(skywalk) > 1:\n",
    "        #sky = fiona.open(jparams['SKYwalk_gjson-z_out'])\n",
    "        skywgeom = [] #-- list of the geometries\n",
    "        skywgeomattributes = [] #-- list of the attributes\n",
    "        #for each in sky:\n",
    "        for (s, each) in enumerate(skywalk['features']):\n",
    "            skywgeom.append(shape(each['geometry'])) #-- geom are casted to Fiona's \n",
    "            skywgeomattributes.append(each['properties'])\n",
    "    else:\n",
    "        skywgeom = None\n",
    "        skywgeomattributes = None\n",
    "           \n",
    "    #if len(roof) > 0:\n",
    "    if len(_roof) > 1:\n",
    "        #_roof = fiona.open(jparams['roof_gjson-z_out'])\n",
    "        roofgeom = [] #-- list of the geometries\n",
    "        roofgeomattributes = [] #-- list of the attributes\n",
    "        #for each in _roof:\n",
    "        for (s, each) in enumerate(_roof['features']):\n",
    "            roofgeom.append(shape(each['geometry'])) #-- geom are casted to Fiona's \n",
    "            roofgeomattributes.append(each['properties'])\n",
    "    else:\n",
    "        roofgeom = None\n",
    "        roofgeomattributes = None\n",
    "        \n",
    "    cm = doVcBndGeomRd(lsgeom, lsattributes, rdattributes, t_list, rd_pts, extent, minz, maxz, \n",
    "                     TerrainT, pts, acoi, jparams, skywgeom,skywgeomattributes, \n",
    "                     roofgeom, roofgeomattributes)    \n",
    "    \n",
    "    json_str = json.dumps(cm)#, indent=2)\n",
    "    fout = open(jparams['cjsn_out'], \"w\")                         \n",
    "    fout.write(json_str)  \n",
    "         ##- close fiona object\n",
    "    c.close() \n",
    "    #clean cityjson\n",
    "    cm = cityjson.load(jparams['cjsn_out'])                      \n",
    "    cityjson.save(cm, jparams['cjsn_CleanOut'])             "
   ]
  },
  {
   "cell_type": "code",
   "execution_count": null,
   "metadata": {},
   "outputs": [],
   "source": []
  },
  {
   "cell_type": "code",
   "execution_count": 308,
   "metadata": {},
   "outputs": [],
   "source": [
    "output_cityjson(extent, minz, maxz, terrTin, pv_pts, t_list, rd_pts, jparams, skywalk, _roof, acoi)  "
   ]
  },
  {
   "cell_type": "code",
   "execution_count": 309,
   "metadata": {},
   "outputs": [],
   "source": [
    "src_ds = None"
   ]
  },
  {
   "cell_type": "markdown",
   "metadata": {},
   "source": [
    "**2.75D .obj**"
   ]
  },
  {
   "cell_type": "code",
   "execution_count": 310,
   "metadata": {},
   "outputs": [],
   "source": [
    "from io import StringIO\n",
    "\n",
    "def OwnXpt2obj(self):\n",
    "        self.decompress()\n",
    "        out = StringIO()\n",
    "        #-- reference .mlt\n",
    "        out.write('mtllib osm_LoD1_3DCityModel.mtl\\n')\n",
    "        #-- write vertices\n",
    "        for v in self.j['vertices']:\n",
    "            out.write('v ' + str(v[0]) + ' ' + str(v[1]) + ' ' + str(v[2]) + '\\n')\n",
    "        vnp = np.array(self.j[\"vertices\"])\n",
    "        #-- translate to minx,miny\n",
    "        minx = 9e9\n",
    "        miny = 9e9\n",
    "        for each in vnp:\n",
    "            if each[0] < minx:\n",
    "                    minx = each[0]\n",
    "            if each[1] < miny:\n",
    "                    miny = each[1]\n",
    "        for each in vnp:\n",
    "            each[0] -= minx\n",
    "            each[1] -= miny\n",
    "\n",
    "        #-- start with the CO\n",
    "        for theid in self.j['CityObjects']:\n",
    "            for geom in self.j['CityObjects'][theid]['geometry']:\n",
    "                if (self.j['CityObjects'][theid]['type'] == 'TINRelief'):\n",
    "                    out.write('usemtl Terrain\\n')\n",
    "                if (self.j['CityObjects'][theid]['type'] == 'Building'):\n",
    "                    out.write('usemtl Building\\n')\n",
    "                if (self.j['CityObjects'][theid]['type'] == 'Road'):\n",
    "                    out.write('usemtl Road\\n')\n",
    "                if (self.j['CityObjects'][theid]['type'] == 'Bridge'):\n",
    "                    out.write('usemtl Bridge\\n')\n",
    "                \n",
    "                out.write('o ' + str(theid) + '\\n')\n",
    "                if ( (geom['type'] == 'MultiSurface') or (geom['type'] == 'CompositeSurface') ):\n",
    "                    for face in geom['boundaries']:\n",
    "                        #re, b, n = self.triangulate_face(face, vnp)\n",
    "                        re, b = self.triangulate_face(face, vnp)\n",
    "                        if b == True:\n",
    "                            for t in re:\n",
    "                                out.write(\"f %d %d %d\\n\" % (t[0] + 1, t[1] + 1, t[2] + 1))\n",
    "                elif (geom['type'] == 'Solid'):\n",
    "                    for shell in geom['boundaries']:\n",
    "                        for i, face in enumerate(shell):\n",
    "                            #re, b, n = self.triangulate_face(face, vnp)\n",
    "                            re, b = self.triangulate_face(face, vnp)\n",
    "                            if b == True:\n",
    "                                for t in re:\n",
    "                                    out.write(\"f %d %d %d\\n\" % (t[0] + 1, t[1] + 1, t[2] + 1))\n",
    "        return out"
   ]
  },
  {
   "cell_type": "code",
   "execution_count": 311,
   "metadata": {},
   "outputs": [],
   "source": [
    "cm = cityjson.load(path=jparams['cjsn_CleanOut'])"
   ]
  },
  {
   "cell_type": "code",
   "execution_count": 312,
   "metadata": {},
   "outputs": [],
   "source": [
    "with open(jparams['obj-2_75D'], 'w+') as f:\n",
    "    re = OwnXpt2obj(cm)\n",
    "    f.write(re.getvalue())"
   ]
  },
  {
   "cell_type": "code",
   "execution_count": null,
   "metadata": {},
   "outputs": [],
   "source": [
    "cm = cityjson.load(path=jparams['cjsn_CleanOut'])\n",
    "\n",
    "for co_id, co in cm.cityobjects.items():\n",
    "    print(f\"Found CityObject {co_id} of type {co.type} and instance of {type(co)}\")"
   ]
  },
  {
   "cell_type": "code",
   "execution_count": null,
   "metadata": {},
   "outputs": [],
   "source": [
    "#cm = cityjson.load(jparams['cjsn_CleanOut'])\n",
    "#is_valid, wo_warnings, error_strings, warning_strings, m, l =  cm.validate()\n",
    "is_valid =  cm.validate()\n",
    "print(f\"\\nThe city model is valid: {is_valid}\")"
   ]
  },
  {
   "cell_type": "code",
   "execution_count": null,
   "metadata": {},
   "outputs": [],
   "source": []
  },
  {
   "attachments": {
    "val3dity.png": {
     "image/png": "[encoded data removed]"
    }
   },
   "cell_type": "markdown",
   "metadata": {},
   "source": [
    "**You are welcome to further investigate the quality of a 3D Model.**\n",
    "\n",
    "**The [val3dity](http://geovalidation.bk.tudelft.nl/val3dity/) web app will test CityJSON geometric primitives.**\n",
    "\n",
    "**If you parse the result of this notebook through [val3dity](http://geovalidation.bk.tudelft.nl/val3dity/) it will return a report with an invalid [TINRelief](https://www.cityjson.org/specs/1.1.1/#tinrelief) and error.**\n",
    "\n",
    "![val3dity.png](attachment:val3dity.png)\n",
    "\n",
    "**This particular area contains buildings with courtyards and roads with traffic circles. The courtyards and interior of the traffic circles** (polygons) **are islands of terrain disconnected from the *larger* TINRelief** (shell); **thus the error.**"
   ]
  },
  {
   "cell_type": "code",
   "execution_count": null,
   "metadata": {},
   "outputs": [],
   "source": []
  },
  {
   "cell_type": "markdown",
   "metadata": {},
   "source": [
    "**As always; you are welcome to raise an issue. I depend on you to help me improve.**"
   ]
  }
 ],
 "metadata": {
  "kernelspec": {
   "display_name": "Python 3 (Spyder)",
   "language": "python3",
   "name": "python3"
  },
  "language_info": {
   "codemirror_mode": {
    "name": "ipython",
    "version": 3
   },
   "file_extension": ".py",
   "mimetype": "text/x-python",
   "name": "python",
   "nbconvert_exporter": "python",
   "pygments_lexer": "ipython3",
   "version": "3.8.13"
  }
 },
 "nbformat": 4,
 "nbformat_minor": 4
}
