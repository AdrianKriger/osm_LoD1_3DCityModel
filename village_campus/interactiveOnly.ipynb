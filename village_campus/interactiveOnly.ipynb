{
 "cells": [
  {
   "cell_type": "markdown",
   "metadata": {},
   "source": [
    "### 3D City Models from Volunteered Public Data\n",
    "\n",
    "**This notebook will produce:**\n",
    "\n",
    "> **1. an interactive 3D Building Model visualization** *- via [pydeck](https://deckgl.readthedocs.io/en/latest/) - which a user can navigate and query* **and**;  \n",
    ">\n",
    "> **2. allow the user to execute an application of Spatial Data Science**  \n",
    ">\n",
    ">> **i)  population estimation and**  \n",
    ">> **ii)  a measure of [Building Volume per Capita](https://www.researchgate.net/publication/343185735_Building_Volume_Per_Capita_BVPC_A_Spatially_Explicit_Measure_of_Inequality_Relevant_to_the_SDGs).**"
   ]
  },
  {
   "cell_type": "code",
   "execution_count": 74,
   "metadata": {},
   "outputs": [],
   "source": [
    "#load the magic\n",
    "\n",
    "%matplotlib inline\n",
    "import os\n",
    "from pathlib import Path\n",
    "import requests\n",
    "\n",
    "import overpass\n",
    "import osm2geojson\n",
    "\n",
    "import numpy as np\n",
    "import pandas as pd\n",
    "import geopandas as gpd\n",
    "import shapely\n",
    "from shapely.geometry import Polygon, shape, mapping\n",
    "#shapely.speedups.disable()\n",
    "import json\n",
    "import geojson\n",
    "import topojson as tp\n",
    "\n",
    "from osgeo import ogr\n",
    "\n",
    "from openlocationcode import openlocationcode as olc\n",
    "\n",
    "import matplotlib.pyplot as plt\n",
    "import pydeck as pdk"
   ]
  },
  {
   "cell_type": "markdown",
   "metadata": {},
   "source": [
    "## 1. Interactive Visualization"
   ]
  },
  {
   "cell_type": "markdown",
   "metadata": {},
   "source": [
    "**Harvest [OpenStreetMap](https://en.wikipedia.org/wiki/OpenStreetMap)** - Query the [Overpass API](https://wiki.openstreetmap.org/wiki/Overpass_API) from within Jupyter and convert to .geojson."
   ]
  },
  {
   "cell_type": "markdown",
   "metadata": {},
   "source": [
    "<div class=\"alert alert-block alert-info\"><b>Set an area-of-interest:</b> \n",
    "    \n",
    "This is done: larger area -> focus area or State (Province) -> Village (neighourhood / campus)\n",
    "</div>"
   ]
  },
  {
   "cell_type": "code",
   "execution_count": 2,
   "metadata": {},
   "outputs": [],
   "source": [
    "large = 'Western Cape'\n",
    "focus = 'Mamre'\n",
    "osm_type = 'relation'"
   ]
  },
  {
   "cell_type": "code",
   "execution_count": 3,
   "metadata": {},
   "outputs": [],
   "source": [
    "query = \"\"\"\n",
    "[out:json][timeout:30];\n",
    "// --when areas have duplicate names given the world has a limited amount of uniquely named places\n",
    "(area[name='{0}'] ->.b;\n",
    "    // -- target area ~ can be way or relation\n",
    "    {1}(area.b)[name='{2}'];\n",
    "    map_to_area -> .a;\n",
    "        // I want all buildings\n",
    "        way['building'](area.a);\n",
    "        // and relation type=multipolygon ~ to removed courtyards from buildings\n",
    "        relation[\"building\"][\"type\"=\"multipolygon\"](area.a);\n",
    "    );\n",
    "out body;\n",
    ">;\n",
    "out skel qt;\n",
    "\"\"\".format(large, osm_type, focus)\n",
    "\n",
    "url = \"http://overpass-api.de/api/interpreter\"\n",
    "r = requests.get(url, params={'data': query})\n",
    "#rr = r.read()\n",
    "gj = osm2geojson.json2geojson(r.json())"
   ]
  },
  {
   "cell_type": "code",
   "execution_count": 4,
   "metadata": {},
   "outputs": [
    {
     "data": {
      "text/plain": [
       "{'type': 'Feature',\n",
       " 'properties': {'type': 'way',\n",
       "  'id': 899965677,\n",
       "  'tags': {'addr:city': 'Cape Town',\n",
       "   'addr:postcode': '7347',\n",
       "   'addr:street': 'Berg Street',\n",
       "   'addr:suburb': 'Mamre',\n",
       "   'building': 'house',\n",
       "   'building:levels': '1'},\n",
       "  'nodes': [8361564905,\n",
       "   8361564906,\n",
       "   8361564907,\n",
       "   8361564908,\n",
       "   8361564909,\n",
       "   8361564910,\n",
       "   8361564905]},\n",
       " 'geometry': {'type': 'Polygon',\n",
       "  'coordinates': [[[18.46537, -33.5091925],\n",
       "    [18.4653206, -33.5091978],\n",
       "    [18.4653143, -33.5091569],\n",
       "    [18.4652413, -33.5091647],\n",
       "    [18.4652557, -33.5092582],\n",
       "    [18.465378, -33.5092451],\n",
       "    [18.46537, -33.5091925]]]}}"
      ]
     },
     "execution_count": 4,
     "metadata": {},
     "output_type": "execute_result"
    }
   ],
   "source": [
    "# have a look at a random feature\n",
    "gj['features'][76]"
   ]
  },
  {
   "cell_type": "markdown",
   "metadata": {},
   "source": [
    "<div class=\"alert alert-block alert-warning\"><b>Calculate building height:</b> \n",
    "\n",
    "We assume a building level is 2.8 meters high and add another 1.3 meters (to account for the roof) and create a new attribute height.</div>"
   ]
  },
  {
   "cell_type": "code",
   "execution_count": 5,
   "metadata": {},
   "outputs": [],
   "source": [
    "storeyheight = 2.8\n",
    "\n",
    "#-- iterate through the list of buildings and create GeoJSON features rich in attributes\n",
    "footprints = {\n",
    "    \"type\": \"FeatureCollection\",\n",
    "    \"features\": []\n",
    "    }\n",
    "\n",
    "for i in gj['features']:\n",
    "    f = {\n",
    "    \"type\" : \"Feature\"\n",
    "    }\n",
    "    # at a minimum we only want building:levels tagged\n",
    "    if i['properties']['type'] != 'node' and 'tags' in i['properties'] \\\n",
    "    and 'building:levels' in i['properties']['tags'] is not None:\n",
    "        \n",
    "        f[\"properties\"] = {}\n",
    "        for p in i[\"properties\"]:             \n",
    "        #-- store OSM attributes and prefix them with osm_\n",
    "            f['properties']['osm_id'] = i['properties']['id']\n",
    "            f[\"properties\"][\"osm_%s\" % p] = i[\"properties\"][p]\n",
    "            if 'amenities' in i['properties']:\n",
    "                f['properties']['osm_tags']['amenity'] = i['properties']['amenities']\n",
    "            osm_shape = shape(i[\"geometry\"])\n",
    "        #-- a few buildings are not polygons, rather linestrings. This converts them to polygons\n",
    "        #-- rare, but if not done it breaks the code later\n",
    "        #if osm_shape.type == 'LineString':\n",
    "        if osm_shape.geom_type == 'LineString':\n",
    "            osm_shape = Polygon(osm_shape)\n",
    "            #-- and multipolygons must be accounted for\n",
    "        #elif osm_shape.type == 'MultiPolygon':\n",
    "        elif osm_shape.geom_type == 'MultiPolygon':\n",
    "            osm_shape = Polygon(osm_shape.geoms[0])\n",
    "            #-- convert the shapely object to geojson\n",
    "        f[\"geometry\"] = mapping(osm_shape)\n",
    "\n",
    "        #-- calculate the height and store it as an attribute\n",
    "        f[\"properties\"]['height'] = float(i[\"properties\"]['tags']['building:levels']) * storeyheight + 1.3 \n",
    "        #-- plus code\n",
    "        p = osm_shape.representative_point()\n",
    "        f[\"properties\"][\"plus_code\"] = olc.encode(p.y, p.x, 11)\n",
    "            \n",
    "        footprints['features'].append(f)\n",
    "\n",
    "\n",
    "#-- store the data as GeoJSON\n",
    "with open('./data/fp_j.geojson', 'w') as outfile:\n",
    "    json.dump(footprints, outfile)"
   ]
  },
  {
   "cell_type": "markdown",
   "metadata": {},
   "source": [
    "**[pydeck](https://deckgl.readthedocs.io/en/latest/) needs an area and a center**, harvest from osm."
   ]
  },
  {
   "cell_type": "code",
   "execution_count": 27,
   "metadata": {},
   "outputs": [],
   "source": [
    "query = \"\"\"\n",
    "[out:json][timeout:30];\n",
    "area[name='{0}']->.a;\n",
    "//gather results\n",
    "(\n",
    "  // query part for: “university”\n",
    "  {1}['name'='{2}'](area.a);\n",
    ");\n",
    "//print results\n",
    "out body;\n",
    ">;\n",
    "out skel qt;\n",
    "\"\"\".format(large, osm_type, focus)\n",
    "\n",
    "url = \"http://overpass-api.de/api/interpreter\"\n",
    "r = requests.get(url, params={'data': query})\n",
    "#rr = r.read()\n",
    "area = osm2geojson.json2geojson(r.json())"
   ]
  },
  {
   "cell_type": "code",
   "execution_count": 28,
   "metadata": {},
   "outputs": [],
   "source": [
    "#read into .gpd\n",
    "gdf = gpd.GeoDataFrame.from_features(area['features'])\n",
    "\n",
    "#-- some relation aoi's are many relations ~ extract the 'place' \n",
    "if osm_type == 'relation' and len(gdf) > 1:\n",
    "    gdf.dropna(subset = [\"tags\"], inplace=True)\n",
    "    for i, row in gdf.iterrows():\n",
    "        if row.tags != None and row.tags != np.nan and 'place' in row.tags:\n",
    "            focus = row\n",
    "            \n",
    "    trim = pd.DataFrame(focus)\n",
    "    trim = trim.T\n",
    "    gdf = gpd.GeoDataFrame(trim, geometry = trim['geometry'])\n",
    "        \n",
    "#gdf = gdf.set_crs(4326)\n",
    "\n",
    "# -- get the location for pydeck\n",
    "[xy] = gdf.centroid\n",
    "bbox = [gdf.total_bounds[0], gdf.total_bounds[1], \n",
    "        gdf.total_bounds[2], gdf.total_bounds[3]]"
   ]
  },
  {
   "cell_type": "markdown",
   "metadata": {},
   "source": [
    "***~ In order to make the most of the semantic data we need to extract the `osm_tags` from the dictionary: and add it as `tooltips` to the visualization.***\n",
    "\n",
    "<div class=\"alert alert-block alert-success\"><b>Building Stock:</b> To differentiate a school, housing, retail, healthcare and community focused facilities (library, municipal office, community centre) we color the buildings - we harvest the osm tags [amenity and building type] directly.</div>"
   ]
  },
  {
   "cell_type": "code",
   "execution_count": 49,
   "metadata": {},
   "outputs": [],
   "source": [
    "data = './data/fp_j.geojson'\n",
    "json = pd.read_json(data)\n",
    "build_df = pd.DataFrame()\n",
    "\n",
    "# Parse the geometry out to Pandas\n",
    "gdf = gpd.GeoDataFrame.from_features(json['features'])\n",
    "geom = gdf['geometry']\n",
    "build_df['geometry'] = geom\n",
    "#--we go this way because pydeck needs the geometry in a specific form\n",
    "#build_df['coordinates'] = build_df.apply(\n",
    "    #lambda row : \n",
    "      #row['geometry'].__geo_interface__['coordinates'], \n",
    "    #axis=1)\n",
    "#df = pd.DataFrame(gdf)\n",
    "build_df[\"coordinates\"] = json[\"features\"].apply(lambda row: row[\"geometry\"][\"coordinates\"])\n",
    "build_df[\"height\"] = round(json[\"features\"].apply(lambda row: row[\"properties\"][\"height\"]), 1)\n",
    "build_df[\"plus_codes\"] = json[\"features\"].apply(lambda row: row[\"properties\"][\"plus_code\"])\n",
    "\n",
    "#we want to display data so extract values from the dictionary \n",
    "build_df[\"id\"] = json[\"features\"].apply(lambda row: row[\"properties\"][\"osm_id\"])\n",
    "build_df[\"tags\"] = json[\"features\"].apply(lambda row: row[\"properties\"][\"osm_tags\"])\n",
    "build_df['level'] = build_df['tags'].apply(lambda x: x.get('building:levels'))\n",
    "build_df['city'] = build_df['tags'].apply(lambda x: x.get('addr:city'))\n",
    "build_df['suburb'] = build_df['tags'].apply(lambda x: x.get('addr:suburb'))\n",
    "build_df['street'] = build_df['tags'].apply(lambda x: x.get('addr:street'))\n",
    "build_df['housenumber'] = build_df['tags'].apply(lambda x: x.get('addr:housenumber'))\n",
    "#-- not all buildings have housenumbers. replace 'NaN' with ''; so the tooltips display nothing\n",
    "build_df['housenumber'].fillna('', inplace=True)\n",
    "\n",
    "build_df['bld'] = build_df['tags'].apply(lambda x: x.get('building'))\n",
    "build_df['bld_p'] = build_df['tags'].apply(lambda x: x.get('building:part'))\n",
    "build_df['flats'] = build_df['tags'].apply(lambda x: x.get('building:flats'))\n",
    "build_df['res'] = build_df['tags'].apply(lambda x: x.get('building:residential'))\n",
    "\n",
    " #-- my attempts to automate and generalize the solution is not perfect\n",
    " #-- if a stray building remains change the type/amenity\n",
    "#build_df['bld'] = np.where(build_df.id == 910399781,'retail', build_df.bld)\n",
    "\n",
    "build_df['amenity'] = build_df['tags'].apply(lambda x: x.get('amenity'))\n",
    "build_df['combine'] = build_df['amenity'].fillna('') + build_df['bld'].fillna('') + build_df['bld_p'].fillna('') \n",
    "#-- basic cleaning\n",
    "build_df['combine'] = build_df['combine'].map(lambda x: x.replace('place_of_worship', '') if len(x) > 15 else x)\n",
    "build_df['combine'] = build_df['combine'].map(lambda x: x.replace('yes', '') if len(x) > 6 else x)\n",
    "build_df['combine'] = build_df['combine'].map(lambda x: x.replace('civic', '') if len(x) > 7 else x)\n",
    "#build_df['combine'] = build_df['combine'].map(lambda x: x.replace('public', '') if len(x) > 6 else x)\n",
    "build_df['combine'] = build_df['combine'].map(lambda x: x.replace('public', '') if len(x) > 6 else x)"
   ]
  },
  {
   "cell_type": "code",
   "execution_count": 50,
   "metadata": {},
   "outputs": [],
   "source": [
    "#gdf = gpd.GeoDataFrame.from_features(json['features'])\n",
    "#geom = gdf['geometry']\n",
    "#build_df['geometry'] = geom\n",
    "#build_df.head(2)"
   ]
  },
  {
   "cell_type": "code",
   "execution_count": 51,
   "metadata": {},
   "outputs": [
    {
     "data": {
      "text/plain": [
       "array(['yes', 'church', 'community_centre', 'house', 'library',\n",
       "       'townhall', 'post_office', 'office', 'retail', 'clinic', 'civic',\n",
       "       'police', 'school', 'residential', 'garage', 'greenhouse',\n",
       "       'househouse', 'roof', 'clubhouse', 'service', 'mortuary',\n",
       "       'doctors', 'detached', 'fuelroof', 'shed'], dtype=object)"
      ]
     },
     "execution_count": 51,
     "metadata": {},
     "output_type": "execute_result"
    }
   ],
   "source": [
    "# have a look at the building type and amenities available\n",
    "build_df['combine'].unique()"
   ]
  },
  {
   "cell_type": "code",
   "execution_count": 11,
   "metadata": {},
   "outputs": [],
   "source": [
    "# colour buildings based on use / amenity\n",
    "def color(bld):\n",
    "    if bld == 'house':# or bld == 'yes':\n",
    "        return [255, 255, 204]\n",
    "    if bld == 'retail' or bld == 'office':\n",
    "        return [253, 141, 60]\n",
    "    if bld == 'school':\n",
    "        return [128, 0, 38]\n",
    "    if bld == 'clinic' or bld == 'doctors':\n",
    "        return [89, 182, 178]\n",
    "    if bld == 'community_centre' or bld == 'service' or bld ==  'post_office' \\\n",
    "    or bld ==  'townhall' or bld ==  'police':\n",
    "        return [181, 182, 89]\n",
    "    if bld == 'library':\n",
    "        return [193, 255, 193]\n",
    "    if bld == 'restaurant':\n",
    "        return [139, 117, 0]\n",
    "    if bld == 'place_of_worship':\n",
    "        return [225, 225, 51]\n",
    "    else:\n",
    "        return [255, 255, 204]\n",
    "\n",
    "build_df[\"fill_color\"] = build_df['combine'].apply(lambda x: color(x))"
   ]
  },
  {
   "cell_type": "code",
   "execution_count": 52,
   "metadata": {},
   "outputs": [
    {
     "data": {
      "text/html": [
       "<div>\n",
       "<style scoped>\n",
       "    .dataframe tbody tr th:only-of-type {\n",
       "        vertical-align: middle;\n",
       "    }\n",
       "\n",
       "    .dataframe tbody tr th {\n",
       "        vertical-align: top;\n",
       "    }\n",
       "\n",
       "    .dataframe thead th {\n",
       "        text-align: right;\n",
       "    }\n",
       "</style>\n",
       "<table border=\"1\" class=\"dataframe\">\n",
       "  <thead>\n",
       "    <tr style=\"text-align: right;\">\n",
       "      <th></th>\n",
       "      <th>geometry</th>\n",
       "      <th>coordinates</th>\n",
       "      <th>height</th>\n",
       "      <th>plus_codes</th>\n",
       "      <th>id</th>\n",
       "      <th>tags</th>\n",
       "      <th>level</th>\n",
       "      <th>city</th>\n",
       "      <th>suburb</th>\n",
       "      <th>street</th>\n",
       "      <th>housenumber</th>\n",
       "      <th>bld</th>\n",
       "      <th>bld_p</th>\n",
       "      <th>flats</th>\n",
       "      <th>res</th>\n",
       "      <th>amenity</th>\n",
       "      <th>combine</th>\n",
       "    </tr>\n",
       "  </thead>\n",
       "  <tbody>\n",
       "    <tr>\n",
       "      <th>0</th>\n",
       "      <td>POLYGON ((18.47060 -33.50579, 18.47070 -33.505...</td>\n",
       "      <td>[[[18.4706033, -33.5057876], [18.4706995, -33....</td>\n",
       "      <td>4.1</td>\n",
       "      <td>4FRWFFVC+P79</td>\n",
       "      <td>328118446</td>\n",
       "      <td>{'building': 'yes', 'building:levels': '1'}</td>\n",
       "      <td>1</td>\n",
       "      <td>None</td>\n",
       "      <td>None</td>\n",
       "      <td>None</td>\n",
       "      <td></td>\n",
       "      <td>yes</td>\n",
       "      <td>None</td>\n",
       "      <td>None</td>\n",
       "      <td>None</td>\n",
       "      <td>None</td>\n",
       "      <td>yes</td>\n",
       "    </tr>\n",
       "    <tr>\n",
       "      <th>1</th>\n",
       "      <td>POLYGON ((18.47092 -33.50592, 18.47093 -33.505...</td>\n",
       "      <td>[[[18.4709153, -33.5059178], [18.4709287, -33....</td>\n",
       "      <td>6.9</td>\n",
       "      <td>4FRWFFVC+H9Q</td>\n",
       "      <td>328118447</td>\n",
       "      <td>{'addr:city': 'Cape Town', 'addr:postcode': '7...</td>\n",
       "      <td>2</td>\n",
       "      <td>Cape Town</td>\n",
       "      <td>Mamre</td>\n",
       "      <td>Kerk Street</td>\n",
       "      <td></td>\n",
       "      <td>church</td>\n",
       "      <td>None</td>\n",
       "      <td>None</td>\n",
       "      <td>None</td>\n",
       "      <td>place_of_worship</td>\n",
       "      <td>church</td>\n",
       "    </tr>\n",
       "  </tbody>\n",
       "</table>\n",
       "</div>"
      ],
      "text/plain": [
       "                                            geometry  ... combine\n",
       "0  POLYGON ((18.47060 -33.50579, 18.47070 -33.505...  ...     yes\n",
       "1  POLYGON ((18.47092 -33.50592, 18.47093 -33.505...  ...  church\n",
       "\n",
       "[2 rows x 17 columns]"
      ]
     },
     "execution_count": 52,
     "metadata": {},
     "output_type": "execute_result"
    }
   ],
   "source": [
    "build_df.head(2)"
   ]
  },
  {
   "cell_type": "markdown",
   "metadata": {},
   "source": [
    "*I want additional visual effects to show the potential and power of **3D City Models**; namely: bus rapid transit, parks, agricultural land and waterways (streams). We get this from [OpenStreetMap](https://en.wikipedia.org/wiki/OpenStreetMap) as well.*"
   ]
  },
  {
   "cell_type": "code",
   "execution_count": 13,
   "metadata": {},
   "outputs": [],
   "source": [
    "query = \"\"\"\n",
    "[out:json][timeout:30];\n",
    "// --when areas have duplicate names given the world has a limited amount of uniquely named places\n",
    "// --main area\n",
    "area[name='{0}']->.b;\n",
    "// -- target area ~ can be way or relation\n",
    "{1}(area.b)[name='{2}'];\n",
    "map_to_area -> .a;\n",
    "(\n",
    "  // query\n",
    "  way[\"sport\"](area.a);\n",
    "  way['leisure'=\"park\"](area.a);\n",
    ");\n",
    "// print results\n",
    "out body;\n",
    ">;\n",
    "out skel qt;\n",
    "\"\"\".format(large, osm_type, focus)\n",
    "\n",
    "url = \"http://overpass-api.de/api/interpreter\"\n",
    "p = requests.get(url, params={'data': query})\n",
    "#rr = r.read()\n",
    "green_spaces = osm2geojson.json2geojson(p.json())\n",
    "\n",
    "query = \"\"\"\n",
    "[out:json][timeout:30];\n",
    "// --when areas have duplicate names given the world has a limited amount of uniquely named places\n",
    "// --main area\n",
    "area[name='{0}']->.b;\n",
    "// -- target area ~ can be way or relation\n",
    "{1}(area.b)[name='{2}'];\n",
    "map_to_area -> .a;\n",
    "(\n",
    "  // query\n",
    "  way['waterway'='stream'](area.a);\n",
    ");\n",
    "// print results\n",
    "out body;\n",
    ">;\n",
    "out skel qt;\n",
    "\"\"\".format(large, osm_type, focus)\n",
    "\n",
    "url = \"http://overpass-api.de/api/interpreter\"\n",
    "w = requests.get(url, params={'data': query})\n",
    "#rr = r.read()\n",
    "water_spaces = osm2geojson.json2geojson(w.json())\n",
    "\n",
    "query = \"\"\"\n",
    "[out:json][timeout:30];\n",
    "// --when areas have duplicate names given the world has a limited amount of uniquely named places\n",
    "// --main area\n",
    "area[name='{0}']->.b;\n",
    "// -- target area ~ can be way or relation\n",
    "{1}(area.b)[name='{2}'];\n",
    "map_to_area -> .a;\n",
    "(\n",
    "  // query\n",
    "  way['landuse'='farmland'](area.a);\n",
    ");\n",
    "// print results\n",
    "out body;\n",
    ">;\n",
    "out skel qt;\n",
    "\"\"\".format(large, osm_type, focus)\n",
    "\n",
    "url = \"http://overpass-api.de/api/interpreter\"\n",
    "f = requests.get(url, params={'data': query})\n",
    "#rr = r.read()\n",
    "p_spaces = osm2geojson.json2geojson(f.json())"
   ]
  },
  {
   "cell_type": "code",
   "execution_count": 14,
   "metadata": {},
   "outputs": [],
   "source": [
    "# the bus route ~~ note we only choose routes with a 'colour' tag\n",
    "query = \"\"\"\n",
    "[out:json][timeout:30];\n",
    "area[name='{0}'];\n",
    "// -- target area ~ can be way or relation\n",
    "// gather results\n",
    "(\n",
    "  // query part for: “\"bus route\"”\n",
    "  relation[\"type\"=\"route\"][\"route\"=\"bus\"]['operator'=\"MyCiTi\"]['colour'](area);\n",
    ");\n",
    "// print results\n",
    "out body;\n",
    ">;\n",
    "out skel qt;\n",
    "\"\"\".format(large)\n",
    "\n",
    "url = \"http://overpass-api.de/api/interpreter\"\n",
    "r = requests.get(url, params={'data': query})\n",
    "#rr = r.read()\n",
    "r_lines = osm2geojson.json2geojson(r.json())"
   ]
  },
  {
   "cell_type": "code",
   "execution_count": 15,
   "metadata": {},
   "outputs": [
    {
     "data": {
      "text/plain": [
       "{'type': 'relation',\n",
       " 'id': 1805361,\n",
       " 'tags': {'colour': '#7DB61C',\n",
       "  'from': 'Vredehoek',\n",
       "  'name': 'Bus 101: Vredehoek => Gardens => Civic Centre',\n",
       "  'network': 'Cape Town IRT',\n",
       "  'operator': 'MyCiTi',\n",
       "  'public_transport:version': '2',\n",
       "  'ref': '101',\n",
       "  'route': 'bus',\n",
       "  'to': 'Civic Centre',\n",
       "  'type': 'route',\n",
       "  'via': 'Gardens'}}"
      ]
     },
     "execution_count": 15,
     "metadata": {},
     "output_type": "execute_result"
    }
   ],
   "source": [
    "# have a look at a random bus route\n",
    "r_lines['features'][0]['properties']"
   ]
  },
  {
   "cell_type": "code",
   "execution_count": null,
   "metadata": {},
   "outputs": [],
   "source": [
    "# extract path and assign colour ~~ so the visualization matches the official documentation\n",
    "\n",
    "Rgdf = gpd.GeoDataFrame.from_features(r_lines['features'])\n",
    "Rgdf = Rgdf.explode(index_parts=True)\n",
    "def coords(geom):\n",
    "    return list(geom.coords)\n",
    "Rgdf['path'] = Rgdf.apply(lambda row: coords(row.geometry), axis=1)\n",
    "\n",
    "Rgdf['name'] = Rgdf['tags'].apply(lambda x: x.get('name')\\\n",
    "                                    if isinstance(x, dict) else np.nan)\n",
    "Rgdf['colour'] = Rgdf['tags'].apply(lambda x: x.get('colour', np.nan)\\\n",
    "                                    if isinstance(x, dict) else np.nan)\n",
    "Rgdf = Rgdf[Rgdf['colour'].notna()]\n",
    "\n",
    "def hex_to_rgb(h):\n",
    "    h = h.lstrip(\"#\")\n",
    "    #h = h.replace('#', '')\n",
    "    return tuple(int(h[i : i + 2], 16) for i in (0, 2, 4))\n",
    "\n",
    "Rgdf[\"colour\"] = Rgdf[\"colour\"].apply(hex_to_rgb)\n",
    "\n",
    "Rgdf.head(3)"
   ]
  },
  {
   "cell_type": "code",
   "execution_count": null,
   "metadata": {},
   "outputs": [],
   "source": [
    "## ~ (x, y) - bl, tl, tr, br  ~~ or ~~ sw, nw, ne, se\n",
    "#area = [[[18.4377, -33.9307], [18.4377, -33.9283], [18.4418, -33.9283], [18.4418, -33.9307]]]\n",
    "area = [[[bbox[0], bbox[1]], [bbox[0], bbox[3]], \n",
    "         [bbox[2], bbox[3]], [bbox[2], bbox[1]]]]\n",
    "\n",
    "## ~ (y, x)\n",
    "view_state = pdk.ViewState(latitude=xy.y, longitude=xy.x, zoom=16.5, max_zoom=19, pitch=72, \n",
    "                                   bearing=80)\n",
    "\n",
    "land = pdk.Layer(\n",
    "    \"PolygonLayer\",\n",
    "    area,\n",
    "    stroked=False,\n",
    "    # processes the data as a flat longitude-latitude pair\n",
    "    get_polygon=\"-\",\n",
    "    get_fill_color=[0, 0, 0, 1],\n",
    "    #material = True,\n",
    "    #shadowEnabled = True\n",
    ")\n",
    "building_layer = pdk.Layer(\n",
    "    \"PolygonLayer\",\n",
    "    build_df,\n",
    "    #id=\"geojson\",\n",
    "    opacity=0.3,\n",
    "    stroked=False,\n",
    "    get_polygon=\"coordinates\",\n",
    "    filled=True,\n",
    "    extruded=True,\n",
    "    wireframe=False,\n",
    "    get_elevation=\"height\",\n",
    "    #get_fill_color=\"[255, 255, 255]\", #255, 255, 255\n",
    "    get_fill_color=\"fill_color\",\n",
    "    get_line_color=\"fill_color\",#[255, 255, 255],\n",
    "    #material = True, \n",
    "    #shadowEnabled = True, \n",
    "    auto_highlight=True,\n",
    "    pickable=True,\n",
    ")\n",
    "greenspaces_layer =  pdk.Layer(\n",
    "    \"GeoJsonLayer\",\n",
    "    green_spaces,\n",
    "    opacity=0.5,\n",
    "    stroked=False,\n",
    "    filled=True,\n",
    "    wireframe=True,\n",
    "    get_fill_color=\"[14, 140, 58]\",\n",
    "    get_line_color='[14, 140, 58]',\n",
    ")\n",
    "\n",
    "water_layer =  pdk.Layer(\n",
    "    \"GeoJsonLayer\",\n",
    "    water_spaces,\n",
    "    opacity=0.8,\n",
    "    stroked=False,\n",
    "    filled=True,\n",
    "    wireframe=True,\n",
    "    get_fill_color=\"[35, 35, 142]\",\n",
    "    get_line_color='[35, 35, 142]',\n",
    ")\n",
    "\n",
    "r_layer = pdk.Layer(\n",
    "    type=\"PathLayer\",\n",
    "    data=Rgdf,\n",
    "    get_color='colour', #'[245, 51, 58]',\n",
    "    #width_scale=20,\n",
    "    #width_min_pixels=8,\n",
    "    get_path=\"path\",\n",
    "    get_width=5,\n",
    "    auto_highlight=False, # change to True if route query\n",
    "    pickable=False, # change to True if route query\n",
    ")\n",
    "p_layer =  pdk.Layer(\n",
    "    \"GeoJsonLayer\",\n",
    "    p_spaces,\n",
    "    opacity=0.2,\n",
    "    stroked=False,\n",
    "    filled=True,\n",
    "    wireframe=True,\n",
    "    get_fill_color=\"[170, 83, 3]\",\n",
    "    get_line_color='[170, 83, 3]',\n",
    ")\n",
    "\n",
    "tooltip = {\"html\": \"<b>Levels:</b> {level} <br/> <b>Address:</b> {housenumber}, {street}, {suburb}, {city}\\\n",
    "<br/> <b>Plus Code:</b> {plus_codes} <br/> <b>Building Type:</b> {combine}\"}\n",
    "\n",
    "#change the tooltip to show bus routes and comment out the previous\n",
    "#tooltip = {\"html\": \"<b>Route:</b> {name} <br/>\"}\n",
    "\n",
    "r = pdk.Deck(layers=[land, greenspaces_layer, p_layer, water_layer, r_layer, building_layer],#, greenspaces_layer, p_layer, water_layer, r_layer], #\n",
    "             #views=[{\"@@type\": \"MapView\", \"controller\": True}],\n",
    "             initial_view_state=view_state,\n",
    "             map_style = pdk.map_styles.LIGHT, #'dark_no_labels', \n",
    "             tooltip=tooltip)\n",
    "#save\n",
    "r.to_html(\"./result/interactiveOnly.html\")\n",
    "#r.show()"
   ]
  },
  {
   "cell_type": "markdown",
   "metadata": {},
   "source": [
    "**on a laptop without a mouse:**\n",
    "\n",
    "- `trackpad left-click drag-left` and `-right`;\n",
    "- `Ctrl left-click drag-up`, `-down`, `-left` and `-right` to rotate and so-on and\n",
    "- `+` next to Backspace zoom-in and `-` next to `+` zoom-out.\n",
    "\n",
    "**Now you do your community.** ~ If your area needs [OpenStreetMap](https://en.wikipedia.org/wiki/OpenStreetMap)  data and you want to contribute please follow the [Guide](https://wiki.openstreetmap.org/wiki/Beginners%27_guide).\n",
    "\n",
    "***"
   ]
  },
  {
   "cell_type": "markdown",
   "metadata": {},
   "source": [
    "<div class=\"alert alert-block alert-danger\"><b>GO FURTHER</b></div>"
   ]
  },
  {
   "cell_type": "markdown",
   "metadata": {},
   "source": [
    "## 2. Spatial Data Sceince"
   ]
  },
  {
   "cell_type": "markdown",
   "metadata": {},
   "source": [
    "<div class=\"alert alert-block alert-warning\"><b>Now that we have a visualization of building stock (buildings colorized by `use`); lets do some basic spatial analysis:</b>  \n",
    "    \n",
    "     \n",
    "- We'll estimate the population, within our area of interest, and then  \n",
    "- calculate the Building Volume Per Capita (BVPC).\n",
    "</div>"
   ]
  },
  {
   "cell_type": "markdown",
   "metadata": {},
   "source": [
    "While estimating population is well documented; recent investigations to **understand overcrowding** have led to newer measurements.  \n",
    "\n",
    "The most noteable of these is **Building Volume Per Capita (BVPC)** [(Ghosh, T; et al. 2020)](https://www.researchgate.net/publication/343185735_Building_Volume_Per_Capita_BVPC_A_Spatially_Explicit_Measure_of_Inequality_Relevant_to_the_SDGs). BVPC is the cubic meters of building per person. **BVPC tells us how much space one person has per residential living unit** (a house / apartment / etc.). It is ***a proxy measure of economic inequality and a direct measure of housing inequality***. \n",
    "\n",
    "BVPC builds on the work of [(Reddy, A and Leslie, T.F., 2013)](https://www.tandfonline.com/doi/abs/10.1080/02723638.2015.1060696?journalCode=rurb20) and attempts to integrate with several **[Sustainable Development Goals](https://sdgs.un.org/goals)** (most noteably: **[SDG 11: Developing sustainable cities and communities](https://sdgs.un.org/goals/goal11)**) and captures the average ***'living space'*** each person has in their home."
   ]
  },
  {
   "cell_type": "markdown",
   "metadata": {},
   "source": [
    "<div class=\"alert alert-block alert-info\"><b>These analysis expect the user to have some basic knowledge about the environment under inquiry / investigation</b> </div>"
   ]
  },
  {
   "cell_type": "code",
   "execution_count": 55,
   "metadata": {},
   "outputs": [
    {
     "data": {
      "text/html": [
       "<div>\n",
       "<style scoped>\n",
       "    .dataframe tbody tr th:only-of-type {\n",
       "        vertical-align: middle;\n",
       "    }\n",
       "\n",
       "    .dataframe tbody tr th {\n",
       "        vertical-align: top;\n",
       "    }\n",
       "\n",
       "    .dataframe thead th {\n",
       "        text-align: right;\n",
       "    }\n",
       "</style>\n",
       "<table border=\"1\" class=\"dataframe\">\n",
       "  <thead>\n",
       "    <tr style=\"text-align: right;\">\n",
       "      <th></th>\n",
       "      <th>geometry</th>\n",
       "      <th>coordinates</th>\n",
       "      <th>height</th>\n",
       "      <th>plus_codes</th>\n",
       "      <th>id</th>\n",
       "      <th>tags</th>\n",
       "      <th>level</th>\n",
       "      <th>city</th>\n",
       "      <th>suburb</th>\n",
       "      <th>street</th>\n",
       "      <th>housenumber</th>\n",
       "      <th>bld</th>\n",
       "      <th>bld_p</th>\n",
       "      <th>flats</th>\n",
       "      <th>res</th>\n",
       "      <th>amenity</th>\n",
       "      <th>combine</th>\n",
       "    </tr>\n",
       "  </thead>\n",
       "  <tbody>\n",
       "    <tr>\n",
       "      <th>0</th>\n",
       "      <td>POLYGON ((18.47060 -33.50579, 18.47070 -33.505...</td>\n",
       "      <td>[[[18.4706033, -33.5057876], [18.4706995, -33....</td>\n",
       "      <td>4.1</td>\n",
       "      <td>4FRWFFVC+P79</td>\n",
       "      <td>328118446</td>\n",
       "      <td>{'building': 'yes', 'building:levels': '1'}</td>\n",
       "      <td>1</td>\n",
       "      <td>None</td>\n",
       "      <td>None</td>\n",
       "      <td>None</td>\n",
       "      <td></td>\n",
       "      <td>yes</td>\n",
       "      <td>None</td>\n",
       "      <td>None</td>\n",
       "      <td>None</td>\n",
       "      <td>None</td>\n",
       "      <td>yes</td>\n",
       "    </tr>\n",
       "    <tr>\n",
       "      <th>1</th>\n",
       "      <td>POLYGON ((18.47092 -33.50592, 18.47093 -33.505...</td>\n",
       "      <td>[[[18.4709153, -33.5059178], [18.4709287, -33....</td>\n",
       "      <td>6.9</td>\n",
       "      <td>4FRWFFVC+H9Q</td>\n",
       "      <td>328118447</td>\n",
       "      <td>{'addr:city': 'Cape Town', 'addr:postcode': '7...</td>\n",
       "      <td>2</td>\n",
       "      <td>Cape Town</td>\n",
       "      <td>Mamre</td>\n",
       "      <td>Kerk Street</td>\n",
       "      <td></td>\n",
       "      <td>church</td>\n",
       "      <td>None</td>\n",
       "      <td>None</td>\n",
       "      <td>None</td>\n",
       "      <td>place_of_worship</td>\n",
       "      <td>church</td>\n",
       "    </tr>\n",
       "  </tbody>\n",
       "</table>\n",
       "</div>"
      ],
      "text/plain": [
       "                                            geometry  ... combine\n",
       "0  POLYGON ((18.47060 -33.50579, 18.47070 -33.505...  ...     yes\n",
       "1  POLYGON ((18.47092 -33.50592, 18.47093 -33.505...  ...  church\n",
       "\n",
       "[2 rows x 17 columns]"
      ]
     },
     "execution_count": 55,
     "metadata": {},
     "output_type": "execute_result"
    }
   ],
   "source": [
    "#-- lets have a look at the data we have\n",
    "build_df.head(2)"
   ]
  },
  {
   "cell_type": "markdown",
   "metadata": {},
   "source": [
    "<div class=\"alert alert-block alert-success\"><b>2. i) Estimate Population:</b></div>"
   ]
  },
  {
   "cell_type": "code",
   "execution_count": 68,
   "metadata": {},
   "outputs": [],
   "source": [
    "#--we only want building=house or =apartment or =residential\n",
    "df = build_df[build_df[\"combine\"].isin(['house', 'apartment', 'residential'])].copy()#, 'yes'])].copy()\n",
    "gdf = gpd.GeoDataFrame(df, geometry = df.geometry, crs=\"EPSG:4326\")"
   ]
  },
  {
   "cell_type": "code",
   "execution_count": 76,
   "metadata": {},
   "outputs": [
    {
     "data": {
      "text/html": [
       "<div>\n",
       "<style scoped>\n",
       "    .dataframe tbody tr th:only-of-type {\n",
       "        vertical-align: middle;\n",
       "    }\n",
       "\n",
       "    .dataframe tbody tr th {\n",
       "        vertical-align: top;\n",
       "    }\n",
       "\n",
       "    .dataframe thead th {\n",
       "        text-align: right;\n",
       "    }\n",
       "</style>\n",
       "<table border=\"1\" class=\"dataframe\">\n",
       "  <thead>\n",
       "    <tr style=\"text-align: right;\">\n",
       "      <th></th>\n",
       "      <th>geometry</th>\n",
       "      <th>coordinates</th>\n",
       "      <th>height</th>\n",
       "      <th>plus_codes</th>\n",
       "      <th>id</th>\n",
       "      <th>tags</th>\n",
       "      <th>level</th>\n",
       "      <th>city</th>\n",
       "      <th>suburb</th>\n",
       "      <th>street</th>\n",
       "      <th>housenumber</th>\n",
       "      <th>bld</th>\n",
       "      <th>bld_p</th>\n",
       "      <th>flats</th>\n",
       "      <th>res</th>\n",
       "      <th>amenity</th>\n",
       "      <th>combine</th>\n",
       "      <th>pop</th>\n",
       "    </tr>\n",
       "  </thead>\n",
       "  <tbody>\n",
       "    <tr>\n",
       "      <th>7</th>\n",
       "      <td>POLYGON ((264864.982 6288741.008, 264864.617 6...</td>\n",
       "      <td>[[[18.4684317, -33.5150664], [18.4684262, -33....</td>\n",
       "      <td>4.1</td>\n",
       "      <td>4FRWFFM9+X98</td>\n",
       "      <td>656840974</td>\n",
       "      <td>{'addr:city': 'Cape Town', 'addr:housenumber':...</td>\n",
       "      <td>1</td>\n",
       "      <td>Cape Town</td>\n",
       "      <td>Mamre</td>\n",
       "      <td>Dove Lane</td>\n",
       "      <td>39</td>\n",
       "      <td>house</td>\n",
       "      <td>None</td>\n",
       "      <td>None</td>\n",
       "      <td>None</td>\n",
       "      <td>None</td>\n",
       "      <td>house</td>\n",
       "      <td>6</td>\n",
       "    </tr>\n",
       "    <tr>\n",
       "      <th>8</th>\n",
       "      <td>POLYGON ((264865.350 6288749.141, 264865.026 6...</td>\n",
       "      <td>[[[18.4684378, -33.5149932], [18.4684327, -33....</td>\n",
       "      <td>4.1</td>\n",
       "      <td>4FRWFFM9+X9X</td>\n",
       "      <td>656840975</td>\n",
       "      <td>{'addr:city': 'Cape Town', 'addr:housenumber':...</td>\n",
       "      <td>1</td>\n",
       "      <td>Cape Town</td>\n",
       "      <td>Mamre</td>\n",
       "      <td>Dove Lane</td>\n",
       "      <td>37</td>\n",
       "      <td>house</td>\n",
       "      <td>None</td>\n",
       "      <td>None</td>\n",
       "      <td>None</td>\n",
       "      <td>None</td>\n",
       "      <td>house</td>\n",
       "      <td>6</td>\n",
       "    </tr>\n",
       "  </tbody>\n",
       "</table>\n",
       "</div>"
      ],
      "text/plain": [
       "                                            geometry  ... pop\n",
       "7  POLYGON ((264864.982 6288741.008, 264864.617 6...  ...   6\n",
       "8  POLYGON ((264865.350 6288749.141, 264865.026 6...  ...   6\n",
       "\n",
       "[2 rows x 18 columns]"
      ]
     },
     "execution_count": 76,
     "metadata": {},
     "output_type": "execute_result"
    }
   ],
   "source": [
    "gdf.head(2)"
   ]
  },
  {
   "cell_type": "code",
   "execution_count": 70,
   "metadata": {},
   "outputs": [
    {
     "data": {
      "text/plain": [
       "1872"
      ]
     },
     "execution_count": 70,
     "metadata": {},
     "output_type": "execute_result"
    }
   ],
   "source": [
    "len(gdf)"
   ]
  },
  {
   "cell_type": "markdown",
   "metadata": {},
   "source": [
    "**This area is peri-urban with single level housing units. To estimate population is thus pretty straight forward.**\n",
    "\n",
    "<div class=\"alert alert-block alert-info\"><b>We start with local knowledge.</b></div>\n",
    "\n",
    "**On average there are roughly `6` people per `building:house` in this area.**  \n",
    "\n",
    "**Additionally an *informal* structure is tagged `building:residential` and houses `3` people.**\n",
    "\n",
    "<div class=\"alert alert-block alert-warning\"><b></b>  \n",
    "    \n",
    "**Furthermore:**  \n",
    "    - `building:apartment` harvests the `building:flats` *'key:value'* pair *(the number of units)* to calculate `*3` people per apartment.  \n",
    "    - Student accomodation is tagged `building:residential` with `residential:student` and then harvests the `building:flats` *'key:value'* pair *(the number of units)* to calculate `*1` people per apartment; if `level: > 1` else `*3` people in a house share.\n",
    "    \n",
    "**The tagging scheme and numbers is based on *how your community is mapped* and local knowledge**\n",
    "</div>"
   ]
  },
  {
   "cell_type": "code",
   "execution_count": 71,
   "metadata": {},
   "outputs": [
    {
     "name": "stdout",
     "output_type": "stream",
     "text": [
      "The estimated population is: 10485\n"
     ]
    }
   ],
   "source": [
    "def pop(row):\n",
    "    if row['combine'] == 'house':\n",
    "        return 6\n",
    "    if row['combine'] == 'apartment':\n",
    "        return row['flats'] * 3\n",
    "    if row['combine'] == 'residential': #here should be an additional: and row['res'] == 'informal':\n",
    "        return 3\n",
    "    if row['combine'] == 'residential' and row['res'] == 'student':\n",
    "        if row['levels'] > 1:\n",
    "            return row['flats'] * 1\n",
    "        else:\n",
    "            3\n",
    "\n",
    "gdf['pop'] = gdf.apply(lambda x: pop(x), axis=1)\n",
    "\n",
    "est_pop = gdf['pop'].sum()\n",
    "print('The estimated population is:', est_pop)"
   ]
  },
  {
   "cell_type": "markdown",
   "metadata": {},
   "source": [
    "**The official [STATSSA 2011 census figure](https://www.statssa.gov.za/?page_id=4286&id=291), for this community, is 9048** "
   ]
  },
  {
   "cell_type": "markdown",
   "metadata": {},
   "source": [
    "<div class=\"alert alert-block alert-success\"><b>2. ii) Building Volume Per Capita (BVPC):</b></div>"
   ]
  },
  {
   "cell_type": "markdown",
   "metadata": {},
   "source": [
    "**We first need to check the quality** *---topology---* **of the dataset**"
   ]
  },
  {
   "cell_type": "markdown",
   "metadata": {},
   "source": [
    "**We also need [BVPC](https://www.researchgate.net/publication/343185735_Building_Volume_Per_Capita_BVPC_A_Spatially_Explicit_Measure_of_Inequality_Relevant_to_the_SDGs) in a cubic meter but our data is in Decimal Degrees.** We need to convert coordinates from the ***Geographic*** to a local ***Projected*** system.\n",
    "\n",
    "<div class=\"alert alert-block alert-info\"><b>To keep this extremely generic (use anywhere) we go with WGS84 / Universal Transverse Mercator (UTM).</b></div>\n",
    "\n",
    "**Find your WGS84 / UTM zone -> [here](https://mangomap.com/robertyoung/maps/69585/what-utm-zone-am-i-in-#) and then search [google](https://www.google.co.za/search?q=epsg+WGS84+%2F+UTM+zone+%5Binsert+zone+here%5D&biw=1344&bih=648&ei=17mzZJLvE8yH9u8PvdudkAQ&ved=0ahUKEwjSttez9pKAAxXMg_0HHb1tB0IQ4dUDCA8&uact=5&oq=epsg+WGS84+%2F+UTM+zone+%5Binsert+zone+here%5D&gs_lp=Egxnd3Mtd2l6LXNlcnAiKGVwc2cgV0dTODQgLyBVVE0gem9uZSBbaW5zZXJ0IHpvbmUgaGVyZV0yBRAAGKIEMgUQABiiBDIFEAAYogQyBRAAGKIESNU6UN0nWJY0cAR4AZABAJgB9AKgAekMqgEDMy01uAEDyAEA-AEBwgIKEAAYRxjWBBiwA-IDBBgAIEGIBgGQBgg&sclient=gws-wiz-serp) with `epsg WGS84 / UTM zone [insert zone here]`**"
   ]
  },
  {
   "cell_type": "code",
   "execution_count": null,
   "metadata": {},
   "outputs": [],
   "source": [
    "epsg = 'epsg:32734'"
   ]
  },
  {
   "cell_type": "code",
   "execution_count": null,
   "metadata": {},
   "outputs": [],
   "source": [
    "gdf = gdf.to_crs(32734)"
   ]
  },
  {
   "cell_type": "code",
   "execution_count": 72,
   "metadata": {},
   "outputs": [],
   "source": [
    "#gdf.drop(gdf.index[gdf['type'] == 'node'], inplace = True)\n",
    "\n",
    "#topo = tp.Topology(gdf, prequantize=False, winding_order='CCW_CW')\n",
    "#gdf = topo.toposimplify(0.2).to_gdf()\n",
    "gdf_copy = gdf.copy()\n",
    "new_df1 = gdf_copy.loc[gdf_copy.overlaps(gdf_copy.unary_union)].reset_index(drop=True)  #-- perhaps no union?\n",
    "gdf_copy.drop(gdf_copy.index[gdf_copy['bld'] == 'bridge'], inplace = True)\n",
    "gdf_copy.drop(gdf_copy.index[gdf_copy['bld'] == 'roof'], inplace = True)"
   ]
  },
  {
   "cell_type": "markdown",
   "metadata": {},
   "source": [
    "**Plot**\n",
    "\n",
    "**A new window will open!**"
   ]
  },
  {
   "cell_type": "code",
   "execution_count": null,
   "metadata": {},
   "outputs": [],
   "source": [
    "%matplotlib\n",
    "\n",
    "fig, ax = plt.subplots(figsize=(11, 11))\n",
    "\n",
    "gdf_copy.plot(ax=ax, facecolor='none', edgecolor='purple', alpha=0.2)\n",
    "if len(new_df1) > 0:\n",
    "    new_df1.plot(ax=ax, edgecolor='red', facecolor='none')#, alpha=0.3)#, column='osm_building', legend=True)\n",
    "\n",
    "\n",
    "#-- https://stackoverflow.com/questions/12439588/how-to-maximize-a-plt-show-window-using-python\n",
    "#plt.get_current_fig_manager().full_screen_toggle() # toggle fullscreen mode\n",
    "mng = plt.get_current_fig_manager()\n",
    "\n",
    "### works on Ubuntu??? >> did NOT working on windows\n",
    "# mng.resize(*mng.window.maxsize())\n",
    "mng.window.state('zoomed') #works fine on Windows!\n",
    "\n",
    "#-- save\n",
    "#plt.savefig('./data/topologyFig', dpi=300)\n",
    "plt.show()"
   ]
  },
  {
   "attachments": {
    "cput-error.png": {
     "image/png": "[encoded data removed]"
    },
    "cput.png": {
     "image/png": "[encoded data removed]"
    }
   },
   "cell_type": "markdown",
   "metadata": {},
   "source": [
    "|  |  |\n",
    "|:--------:|:--------:|\n",
    "| ![cput-error.png](attachment:cput-error.png)| **Challenges will be highlight in *'Red'***|\n",
    "| ![cput.png](attachment:cput.png)| **or none**|"
   ]
  },
  {
   "cell_type": "markdown",
   "metadata": {},
   "source": [
    "<h2><center> If you continue without fixing the challenges, the BVPC value will not be true.  <br /><br /> Our goal is to be as representative as possible. </center></h2>\n",
    "\n",
    "**If necessary; edit [OpenStreetMap](https://www.openstreetmap.org/about) and fix the challenge please.** \n",
    "\n",
    "<div class=\"alert alert-block alert-warning\"><b>  </b> \n",
    "\n",
    "And remember to give the the OpenStreetMap server at least a day before attempting the process again.\n",
    "    \n",
    "**Alchemy is a process. Please be patient.**\n",
    "</div>"
   ]
  },
  {
   "cell_type": "markdown",
   "metadata": {},
   "source": [
    "<div class=\"alert alert-block alert-success\"><b>BVPC = total population of a community divided by sum of building volume</b></div>"
   ]
  },
  {
   "cell_type": "code",
   "execution_count": 78,
   "metadata": {},
   "outputs": [
    {
     "data": {
      "text/html": [
       "<div>\n",
       "<style scoped>\n",
       "    .dataframe tbody tr th:only-of-type {\n",
       "        vertical-align: middle;\n",
       "    }\n",
       "\n",
       "    .dataframe tbody tr th {\n",
       "        vertical-align: top;\n",
       "    }\n",
       "\n",
       "    .dataframe thead th {\n",
       "        text-align: right;\n",
       "    }\n",
       "</style>\n",
       "<table border=\"1\" class=\"dataframe\">\n",
       "  <thead>\n",
       "    <tr style=\"text-align: right;\">\n",
       "      <th></th>\n",
       "      <th>geometry</th>\n",
       "      <th>coordinates</th>\n",
       "      <th>height</th>\n",
       "      <th>plus_codes</th>\n",
       "      <th>id</th>\n",
       "      <th>tags</th>\n",
       "      <th>level</th>\n",
       "      <th>city</th>\n",
       "      <th>suburb</th>\n",
       "      <th>street</th>\n",
       "      <th>housenumber</th>\n",
       "      <th>bld</th>\n",
       "      <th>bld_p</th>\n",
       "      <th>flats</th>\n",
       "      <th>res</th>\n",
       "      <th>amenity</th>\n",
       "      <th>combine</th>\n",
       "      <th>pop</th>\n",
       "      <th>area</th>\n",
       "      <th>volume</th>\n",
       "      <th>bvpc</th>\n",
       "    </tr>\n",
       "  </thead>\n",
       "  <tbody>\n",
       "    <tr>\n",
       "      <th>2188</th>\n",
       "      <td>POLYGON ((265305.077 6288750.422, 265302.872 6...</td>\n",
       "      <td>[[[18.4731684, -33.5150783], [18.4731456, -33....</td>\n",
       "      <td>4.1</td>\n",
       "      <td>4FRWFFMF+W7J</td>\n",
       "      <td>12289266</td>\n",
       "      <td>{'addr:city': 'Cape Town', 'addr:housenumber':...</td>\n",
       "      <td>1</td>\n",
       "      <td>Cape Town</td>\n",
       "      <td>Mamre</td>\n",
       "      <td>Clarkeson Street</td>\n",
       "      <td>22</td>\n",
       "      <td>house</td>\n",
       "      <td>None</td>\n",
       "      <td>None</td>\n",
       "      <td>None</td>\n",
       "      <td>None</td>\n",
       "      <td>house</td>\n",
       "      <td>6</td>\n",
       "      <td>344.679759</td>\n",
       "      <td>1413.187012</td>\n",
       "      <td>235.531169</td>\n",
       "    </tr>\n",
       "    <tr>\n",
       "      <th>2189</th>\n",
       "      <td>POLYGON ((266000.758 6288992.653, 265989.649 6...</td>\n",
       "      <td>[[[18.4807154, -33.5130481], [18.4805967, -33....</td>\n",
       "      <td>4.1</td>\n",
       "      <td>4FRWFFPJ+P7W</td>\n",
       "      <td>12357148</td>\n",
       "      <td>{'addr:city': 'Cape Town', 'addr:housenumber':...</td>\n",
       "      <td>1</td>\n",
       "      <td>Cape Town</td>\n",
       "      <td>Mamre</td>\n",
       "      <td>Tol Street</td>\n",
       "      <td>2</td>\n",
       "      <td>house</td>\n",
       "      <td>None</td>\n",
       "      <td>None</td>\n",
       "      <td>None</td>\n",
       "      <td>None</td>\n",
       "      <td>house</td>\n",
       "      <td>6</td>\n",
       "      <td>327.808101</td>\n",
       "      <td>1344.013215</td>\n",
       "      <td>224.002202</td>\n",
       "    </tr>\n",
       "  </tbody>\n",
       "</table>\n",
       "</div>"
      ],
      "text/plain": [
       "                                               geometry  ...        bvpc\n",
       "2188  POLYGON ((265305.077 6288750.422, 265302.872 6...  ...  235.531169\n",
       "2189  POLYGON ((266000.758 6288992.653, 265989.649 6...  ...  224.002202\n",
       "\n",
       "[2 rows x 21 columns]"
      ]
     },
     "execution_count": 78,
     "metadata": {},
     "output_type": "execute_result"
    }
   ],
   "source": [
    "#gdf['area'] = gdf['geometry'].to_crs('epsg:32734').area#\\.map(lambda p: p.area)\n",
    "#gdf['area'] = gdf['geometry'].to_crs(epsg).area#\\.map(lambda p: p.area)\n",
    "gdf['area'] = gdf['geometry'].area#\\.map(lambda p: p.area)\n",
    "gdf['volume'] = gdf['area'] * gdf['height']\n",
    "gdf['bvpc'] =  gdf['volume'] / gdf['pop'] \n",
    "\n",
    "gdf.tail(2)"
   ]
  },
  {
   "cell_type": "code",
   "execution_count": 79,
   "metadata": {},
   "outputs": [
    {
     "name": "stdout",
     "output_type": "stream",
     "text": [
      "count    1872.000000\n",
      "mean       83.502892\n",
      "std        53.222191\n",
      "min        17.083175\n",
      "25%        44.804768\n",
      "50%        76.433019\n",
      "75%       107.726081\n",
      "max       729.782525\n",
      "Name: bvpc, dtype: float64\n"
     ]
    }
   ],
   "source": [
    "print(gdf['bvpc'].describe())"
   ]
  },
  {
   "cell_type": "code",
   "execution_count": 80,
   "metadata": {},
   "outputs": [
    {
     "name": "stdout",
     "output_type": "stream",
     "text": [
      "Building Volume Per Capita (BVPC): 83.292\n"
     ]
    }
   ],
   "source": [
    "bvpc = round(gdf['volume'].sum() / est_pop, 3)\n",
    "\n",
    "print('Building Volume Per Capita (BVPC):', bvpc)"
   ]
  },
  {
   "cell_type": "markdown",
   "metadata": {},
   "source": [
    "<div class=\"alert alert-block alert-info\"><b></b>\n",
    "\n",
    "**This BVPC value is general.**  \n",
    "\n",
    "We can seperate `building:house` and `building:residential` to undertand the differences between ***formal and informal*** housing in this area.\n",
    "    \n",
    "**We want to understand the living space *(the cubic-meter BVPC value)* each person has in thier home**\n",
    "</div>"
   ]
  },
  {
   "cell_type": "code",
   "execution_count": 17,
   "metadata": {},
   "outputs": [
    {
     "name": "stdout",
     "output_type": "stream",
     "text": [
      "FORMAL: Population:  9744  with Building Volume Per Capita (BVPC): 77.291\n",
      "\n",
      "INFORMAL: Polutation:  732  with Building Volume Per Capita (BVPC) 6.112\n"
     ]
    }
   ],
   "source": [
    "formal = gdf[gdf[\"combine\"].isin(['house'])].copy()\n",
    "f_pop = formal['pop'].sum()\n",
    "#f_area = formal['area'].mean()\n",
    "\n",
    "informal = gdf[gdf[\"combine\"].isin(['residential'])].copy()\n",
    "inf_pop = informal['pop'].sum()\n",
    "#inf_area = formal['area'].mean()\n",
    "\n",
    "bvpc_formal = round(formal['volume'].sum() / est_pop, 3)\n",
    "bvpc_informal = round(informal['volume'].sum() / est_pop, 3)\n",
    "\n",
    "print('FORMAL: Population: ', f_pop, ' with Building Volume Per Capita (BVPC):', bvpc_formal)\n",
    "print('')\n",
    "print('INFORMAL: Polutation: ', inf_pop, ' with Building Volume Per Capita (BVPC)', bvpc_informal)"
   ]
  },
  {
   "cell_type": "markdown",
   "metadata": {},
   "source": [
    "***\n",
    "\n",
    "**Now you do your community.** ~ If your area needs [OpenStreetMap](https://en.wikipedia.org/wiki/OpenStreetMap) data and you want to contribute please follow the [Guide](https://wiki.openstreetmap.org/wiki/Beginners%27_guide)."
   ]
  }
 ],
 "metadata": {
  "kernelspec": {
   "display_name": "Python 3 (Spyder)",
   "language": "python3",
   "name": "python3"
  },
  "language_info": {
   "codemirror_mode": {
    "name": "ipython",
    "version": 3
   },
   "file_extension": ".py",
   "mimetype": "text/x-python",
   "name": "python",
   "nbconvert_exporter": "python",
   "pygments_lexer": "ipython3",
   "version": "3.8.5"
  }
 },
 "nbformat": 4,
 "nbformat_minor": 4
}
